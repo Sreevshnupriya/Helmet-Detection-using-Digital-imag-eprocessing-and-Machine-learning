{
 "cells": [
  {
   "cell_type": "code",
   "execution_count": 194,
   "id": "0440b7a0",
   "metadata": {},
   "outputs": [],
   "source": [
    "import numpy as np\n",
    "import matplotlib.pyplot as plt\n",
    "import pandas as pd\n",
    "import seaborn as sns\n",
    "from sklearn.preprocessing import LabelEncoder,StandardScaler\n",
    "from sklearn.model_selection import train_test_split \n",
    "from sklearn.svm import SVC\n",
    "import cv2\n",
    "import pywt\n",
    "from skimage.feature import local_binary_pattern, greycomatrix,greycoprops,hog\n",
    "from skimage.filters import gabor\n",
    "from sklearn import metrics\n",
    "from sklearn.metrics import confusion_matrix,roc_curve,classification_report\n",
    "import numpy as np"
   ]
  },
  {
   "cell_type": "code",
   "execution_count": 195,
   "id": "2efbc88f",
   "metadata": {},
   "outputs": [],
   "source": [
    "df=pd.read_csv(\"features_hog.csv\")"
   ]
  },
  {
   "cell_type": "code",
   "execution_count": 196,
   "id": "0b64c906",
   "metadata": {},
   "outputs": [
    {
     "data": {
      "text/html": [
       "<div>\n",
       "<style scoped>\n",
       "    .dataframe tbody tr th:only-of-type {\n",
       "        vertical-align: middle;\n",
       "    }\n",
       "\n",
       "    .dataframe tbody tr th {\n",
       "        vertical-align: top;\n",
       "    }\n",
       "\n",
       "    .dataframe thead th {\n",
       "        text-align: right;\n",
       "    }\n",
       "</style>\n",
       "<table border=\"1\" class=\"dataframe\">\n",
       "  <thead>\n",
       "    <tr style=\"text-align: right;\">\n",
       "      <th></th>\n",
       "      <th>Unnamed: 0</th>\n",
       "      <th>Unnamed: 1</th>\n",
       "      <th>Unnamed: 2</th>\n",
       "      <th>Unnamed: 3</th>\n",
       "      <th>Unnamed: 4</th>\n",
       "      <th>Unnamed: 5</th>\n",
       "      <th>Unnamed: 6</th>\n",
       "      <th>Unnamed: 7</th>\n",
       "      <th>Unnamed: 8</th>\n",
       "      <th>outcome</th>\n",
       "    </tr>\n",
       "  </thead>\n",
       "  <tbody>\n",
       "    <tr>\n",
       "      <th>0</th>\n",
       "      <td>0.847880</td>\n",
       "      <td>0.590548</td>\n",
       "      <td>48.085815</td>\n",
       "      <td>1.182206</td>\n",
       "      <td>0.911812</td>\n",
       "      <td>0.879355</td>\n",
       "      <td>0.606393</td>\n",
       "      <td>0.973839</td>\n",
       "      <td>0.129808</td>\n",
       "      <td>with helmet</td>\n",
       "    </tr>\n",
       "    <tr>\n",
       "      <th>1</th>\n",
       "      <td>0.685346</td>\n",
       "      <td>1.090516</td>\n",
       "      <td>138.541353</td>\n",
       "      <td>2.891792</td>\n",
       "      <td>0.805732</td>\n",
       "      <td>0.737047</td>\n",
       "      <td>0.600127</td>\n",
       "      <td>0.934522</td>\n",
       "      <td>0.285094</td>\n",
       "      <td>with helmet</td>\n",
       "    </tr>\n",
       "    <tr>\n",
       "      <th>2</th>\n",
       "      <td>0.843762</td>\n",
       "      <td>0.604311</td>\n",
       "      <td>44.511642</td>\n",
       "      <td>1.137569</td>\n",
       "      <td>0.910226</td>\n",
       "      <td>0.876347</td>\n",
       "      <td>0.632382</td>\n",
       "      <td>0.977506</td>\n",
       "      <td>0.113224</td>\n",
       "      <td>with helmet</td>\n",
       "    </tr>\n",
       "    <tr>\n",
       "      <th>3</th>\n",
       "      <td>0.688089</td>\n",
       "      <td>1.089681</td>\n",
       "      <td>181.972444</td>\n",
       "      <td>3.521278</td>\n",
       "      <td>0.801132</td>\n",
       "      <td>0.741974</td>\n",
       "      <td>0.614843</td>\n",
       "      <td>0.901392</td>\n",
       "      <td>0.405674</td>\n",
       "      <td>with helmet</td>\n",
       "    </tr>\n",
       "    <tr>\n",
       "      <th>4</th>\n",
       "      <td>0.861559</td>\n",
       "      <td>0.546654</td>\n",
       "      <td>63.677669</td>\n",
       "      <td>1.309211</td>\n",
       "      <td>0.918778</td>\n",
       "      <td>0.890248</td>\n",
       "      <td>0.432516</td>\n",
       "      <td>0.967031</td>\n",
       "      <td>0.161891</td>\n",
       "      <td>with helmet</td>\n",
       "    </tr>\n",
       "  </tbody>\n",
       "</table>\n",
       "</div>"
      ],
      "text/plain": [
       "   Unnamed: 0  Unnamed: 1  Unnamed: 2  Unnamed: 3  Unnamed: 4  Unnamed: 5  \\\n",
       "0    0.847880    0.590548   48.085815    1.182206    0.911812    0.879355   \n",
       "1    0.685346    1.090516  138.541353    2.891792    0.805732    0.737047   \n",
       "2    0.843762    0.604311   44.511642    1.137569    0.910226    0.876347   \n",
       "3    0.688089    1.089681  181.972444    3.521278    0.801132    0.741974   \n",
       "4    0.861559    0.546654   63.677669    1.309211    0.918778    0.890248   \n",
       "\n",
       "   Unnamed: 6  Unnamed: 7  Unnamed: 8      outcome  \n",
       "0    0.606393    0.973839    0.129808  with helmet  \n",
       "1    0.600127    0.934522    0.285094  with helmet  \n",
       "2    0.632382    0.977506    0.113224  with helmet  \n",
       "3    0.614843    0.901392    0.405674  with helmet  \n",
       "4    0.432516    0.967031    0.161891  with helmet  "
      ]
     },
     "execution_count": 196,
     "metadata": {},
     "output_type": "execute_result"
    }
   ],
   "source": [
    "df.head()"
   ]
  },
  {
   "cell_type": "code",
   "execution_count": 197,
   "id": "12a8b287",
   "metadata": {},
   "outputs": [],
   "source": [
    "l=LabelEncoder()"
   ]
  },
  {
   "cell_type": "code",
   "execution_count": 198,
   "id": "22e77fca",
   "metadata": {},
   "outputs": [],
   "source": [
    "df[\"outcome\"]=l.fit_transform(df.outcome)"
   ]
  },
  {
   "cell_type": "code",
   "execution_count": 199,
   "id": "8c2e2fb0",
   "metadata": {},
   "outputs": [
    {
     "data": {
      "text/html": [
       "<div>\n",
       "<style scoped>\n",
       "    .dataframe tbody tr th:only-of-type {\n",
       "        vertical-align: middle;\n",
       "    }\n",
       "\n",
       "    .dataframe tbody tr th {\n",
       "        vertical-align: top;\n",
       "    }\n",
       "\n",
       "    .dataframe thead th {\n",
       "        text-align: right;\n",
       "    }\n",
       "</style>\n",
       "<table border=\"1\" class=\"dataframe\">\n",
       "  <thead>\n",
       "    <tr style=\"text-align: right;\">\n",
       "      <th></th>\n",
       "      <th>Unnamed: 0</th>\n",
       "      <th>Unnamed: 1</th>\n",
       "      <th>Unnamed: 2</th>\n",
       "      <th>Unnamed: 3</th>\n",
       "      <th>Unnamed: 4</th>\n",
       "      <th>Unnamed: 5</th>\n",
       "      <th>Unnamed: 6</th>\n",
       "      <th>Unnamed: 7</th>\n",
       "      <th>Unnamed: 8</th>\n",
       "      <th>outcome</th>\n",
       "    </tr>\n",
       "  </thead>\n",
       "  <tbody>\n",
       "    <tr>\n",
       "      <th>0</th>\n",
       "      <td>0.847880</td>\n",
       "      <td>0.590548</td>\n",
       "      <td>48.085815</td>\n",
       "      <td>1.182206</td>\n",
       "      <td>0.911812</td>\n",
       "      <td>0.879355</td>\n",
       "      <td>0.606393</td>\n",
       "      <td>0.973839</td>\n",
       "      <td>0.129808</td>\n",
       "      <td>0</td>\n",
       "    </tr>\n",
       "    <tr>\n",
       "      <th>1</th>\n",
       "      <td>0.685346</td>\n",
       "      <td>1.090516</td>\n",
       "      <td>138.541353</td>\n",
       "      <td>2.891792</td>\n",
       "      <td>0.805732</td>\n",
       "      <td>0.737047</td>\n",
       "      <td>0.600127</td>\n",
       "      <td>0.934522</td>\n",
       "      <td>0.285094</td>\n",
       "      <td>0</td>\n",
       "    </tr>\n",
       "    <tr>\n",
       "      <th>2</th>\n",
       "      <td>0.843762</td>\n",
       "      <td>0.604311</td>\n",
       "      <td>44.511642</td>\n",
       "      <td>1.137569</td>\n",
       "      <td>0.910226</td>\n",
       "      <td>0.876347</td>\n",
       "      <td>0.632382</td>\n",
       "      <td>0.977506</td>\n",
       "      <td>0.113224</td>\n",
       "      <td>0</td>\n",
       "    </tr>\n",
       "    <tr>\n",
       "      <th>3</th>\n",
       "      <td>0.688089</td>\n",
       "      <td>1.089681</td>\n",
       "      <td>181.972444</td>\n",
       "      <td>3.521278</td>\n",
       "      <td>0.801132</td>\n",
       "      <td>0.741974</td>\n",
       "      <td>0.614843</td>\n",
       "      <td>0.901392</td>\n",
       "      <td>0.405674</td>\n",
       "      <td>0</td>\n",
       "    </tr>\n",
       "    <tr>\n",
       "      <th>4</th>\n",
       "      <td>0.861559</td>\n",
       "      <td>0.546654</td>\n",
       "      <td>63.677669</td>\n",
       "      <td>1.309211</td>\n",
       "      <td>0.918778</td>\n",
       "      <td>0.890248</td>\n",
       "      <td>0.432516</td>\n",
       "      <td>0.967031</td>\n",
       "      <td>0.161891</td>\n",
       "      <td>0</td>\n",
       "    </tr>\n",
       "  </tbody>\n",
       "</table>\n",
       "</div>"
      ],
      "text/plain": [
       "   Unnamed: 0  Unnamed: 1  Unnamed: 2  Unnamed: 3  Unnamed: 4  Unnamed: 5  \\\n",
       "0    0.847880    0.590548   48.085815    1.182206    0.911812    0.879355   \n",
       "1    0.685346    1.090516  138.541353    2.891792    0.805732    0.737047   \n",
       "2    0.843762    0.604311   44.511642    1.137569    0.910226    0.876347   \n",
       "3    0.688089    1.089681  181.972444    3.521278    0.801132    0.741974   \n",
       "4    0.861559    0.546654   63.677669    1.309211    0.918778    0.890248   \n",
       "\n",
       "   Unnamed: 6  Unnamed: 7  Unnamed: 8  outcome  \n",
       "0    0.606393    0.973839    0.129808        0  \n",
       "1    0.600127    0.934522    0.285094        0  \n",
       "2    0.632382    0.977506    0.113224        0  \n",
       "3    0.614843    0.901392    0.405674        0  \n",
       "4    0.432516    0.967031    0.161891        0  "
      ]
     },
     "execution_count": 199,
     "metadata": {},
     "output_type": "execute_result"
    }
   ],
   "source": [
    "df.head()"
   ]
  },
  {
   "cell_type": "code",
   "execution_count": 200,
   "id": "b4b3242a",
   "metadata": {},
   "outputs": [],
   "source": [
    "x = df.drop(['outcome'], axis='columns')\n",
    "y = df.outcome"
   ]
  },
  {
   "cell_type": "code",
   "execution_count": 201,
   "id": "6a0e9d19",
   "metadata": {},
   "outputs": [],
   "source": [
    "scalar = StandardScaler()\n",
    "x = scalar.fit_transform(x)"
   ]
  },
  {
   "cell_type": "code",
   "execution_count": 202,
   "id": "720a1f5d",
   "metadata": {},
   "outputs": [],
   "source": [
    "x_train, x_test, y_train,y_test=train_test_split(x,y,test_size=.2, random_state=2)"
   ]
  },
  {
   "cell_type": "code",
   "execution_count": 203,
   "id": "1376e711",
   "metadata": {},
   "outputs": [
    {
     "name": "stdout",
     "output_type": "stream",
     "text": [
      "(98, 9) (98,) (25, 9) (25,)\n"
     ]
    }
   ],
   "source": [
    "print(x_train.shape,y_train.shape, x_test.shape, y_test.shape)"
   ]
  },
  {
   "cell_type": "code",
   "execution_count": 204,
   "id": "43b91413",
   "metadata": {},
   "outputs": [],
   "source": [
    "#img=cv2.imread(r\"C:\\Users\\user\\Desktop\\MCA\\SEM 3\\Project\\programs\\test_without_bg\\hog\\without\\crop_head1.jpg\")  \n",
    "img=cv2.imread(r\"C:\\Users\\user\\Desktop\\MCA\\SEM 3\\Project\\programs\\test_without_bg\\hog\\with\\crop_head46.jpg\")\n",
    "#img = cv2.imread(r\"C:\\Users\\user\\Desktop\\MCA\\SEM 3\\Helmet detection\\images\\BikesHelmets649.png\")\n",
    "#cv2.imshow(\"org img\",img)\n",
    "#cv2.waitKey(0)"
   ]
  },
  {
   "cell_type": "code",
   "execution_count": 205,
   "id": "8f1e3024",
   "metadata": {},
   "outputs": [
    {
     "data": {
      "text/plain": [
       "'    \\n    # Otsu thresholding\\nret,img_new = cv2.threshold(gray,0,255,cv2.THRESH_BINARY+cv2.THRESH_OTSU)\\n   \\n    # Sobel edge detection\\nimg_new = cv2.Sobel(src=img, ddepth=cv2.CV_64F, dx=1, dy=1, ksize=5)\\n    \\nfd, img = hog(img_new, orientations=9, pixels_per_cell=(8, 8),cells_per_block=(2, 2), visualize=True)\\n'"
      ]
     },
     "execution_count": 205,
     "metadata": {},
     "output_type": "execute_result"
    }
   ],
   "source": [
    "img1= cv2.resize(img, (400,400))\n",
    "c=cv2.cvtColor(img1,cv2.COLOR_BGR2RGB)\n",
    "    \n",
    "    #conversion of RGB images into Gray Scale\n",
    "img = cv2.cvtColor(c, cv2.COLOR_BGR2GRAY)\n",
    "\"\"\"    \n",
    "    # Otsu thresholding\n",
    "ret,img_new = cv2.threshold(gray,0,255,cv2.THRESH_BINARY+cv2.THRESH_OTSU)\n",
    "   \n",
    "    # Sobel edge detection\n",
    "img_new = cv2.Sobel(src=img, ddepth=cv2.CV_64F, dx=1, dy=1, ksize=5)\n",
    "    \n",
    "fd, img = hog(img_new, orientations=9, pixels_per_cell=(8, 8),cells_per_block=(2, 2), visualize=True)\n",
    "\"\"\""
   ]
  },
  {
   "cell_type": "code",
   "execution_count": 206,
   "id": "faae232e",
   "metadata": {},
   "outputs": [
    {
     "name": "stderr",
     "output_type": "stream",
     "text": [
      "C:\\Users\\user\\AppData\\Local\\Temp\\ipykernel_5588\\2136797188.py:7: RuntimeWarning: divide by zero encountered in log2\n",
      "  lbp_entropy = -np.nansum(np.multiply(lbp_prob,np.log2(lbp_prob)))\n",
      "C:\\Users\\user\\AppData\\Local\\Temp\\ipykernel_5588\\2136797188.py:7: RuntimeWarning: invalid value encountered in multiply\n",
      "  lbp_entropy = -np.nansum(np.multiply(lbp_prob,np.log2(lbp_prob)))\n",
      "C:\\Users\\user\\anaconda3\\envs\\user\\lib\\site-packages\\skimage\\feature\\__init__.py:35: skimage_deprecation: Function ``greycomatrix`` is deprecated and will be removed in version 1.0. Use ``skimage.feature.graycomatrix`` instead.\n",
      "  removed_version='1.0')\n",
      "C:\\Users\\user\\anaconda3\\envs\\user\\lib\\site-packages\\skimage\\feature\\__init__.py:42: skimage_deprecation: Function ``greycoprops`` is deprecated and will be removed in version 1.0. Use ``skimage.feature.graycoprops`` instead.\n",
      "  removed_version='1.0')\n",
      "C:\\Users\\user\\anaconda3\\envs\\user\\lib\\site-packages\\skimage\\feature\\__init__.py:42: skimage_deprecation: Function ``greycoprops`` is deprecated and will be removed in version 1.0. Use ``skimage.feature.graycoprops`` instead.\n",
      "  removed_version='1.0')\n",
      "C:\\Users\\user\\anaconda3\\envs\\user\\lib\\site-packages\\skimage\\feature\\__init__.py:42: skimage_deprecation: Function ``greycoprops`` is deprecated and will be removed in version 1.0. Use ``skimage.feature.graycoprops`` instead.\n",
      "  removed_version='1.0')\n",
      "C:\\Users\\user\\anaconda3\\envs\\user\\lib\\site-packages\\skimage\\feature\\__init__.py:42: skimage_deprecation: Function ``greycoprops`` is deprecated and will be removed in version 1.0. Use ``skimage.feature.graycoprops`` instead.\n",
      "  removed_version='1.0')\n",
      "C:\\Users\\user\\anaconda3\\envs\\user\\lib\\site-packages\\skimage\\feature\\__init__.py:42: skimage_deprecation: Function ``greycoprops`` is deprecated and will be removed in version 1.0. Use ``skimage.feature.graycoprops`` instead.\n",
      "  removed_version='1.0')\n"
     ]
    }
   ],
   "source": [
    "# LBP\n",
    "feat_lbp = local_binary_pattern(img,5,2,'uniform')\n",
    "lbp_hist,_ = np.histogram(feat_lbp,8)\n",
    "lbp_hist = np.array(lbp_hist,dtype=float)\n",
    "lbp_prob = np.divide(lbp_hist,np.sum(lbp_hist))\n",
    "lbp_energy = np.nansum(lbp_prob**2)\n",
    "lbp_entropy = -np.nansum(np.multiply(lbp_prob,np.log2(lbp_prob)))  \n",
    "        \n",
    "lbphist_features = np.reshape(np.array(lbp_hist).ravel(),(1,len(np.array(lbp_hist).ravel())))\n",
    "lbpprob_features=np.reshape(np.array(lbp_prob).ravel(),(1,len(np.array(lbp_prob).ravel())))\n",
    "lbpenrgy_features=np.reshape(np.array(lbp_energy).ravel(),(1,len(np.array(lbp_energy).ravel())))\n",
    "lbpento_features=np.reshape(np.array(lbp_entropy).ravel(),(1,len(np.array(lbp_entropy).ravel())))\n",
    "\n",
    "\n",
    "        # GLCM\n",
    "gCoMat = greycomatrix(img.astype(np.uint8), [1], [0],256,symmetric=True, normed=True)\n",
    "contrast = greycoprops(gCoMat, prop='contrast')\n",
    "dissimilarity = greycoprops(gCoMat, prop='dissimilarity')\n",
    "homogeneity = greycoprops(gCoMat, prop='homogeneity')    \n",
    "energy = greycoprops(gCoMat, prop='energy')\n",
    "correlation = greycoprops(gCoMat, prop='correlation')    \n",
    "        \n",
    "contrast_features = np.reshape(np.array(contrast).ravel(),(1,len(np.array(contrast).ravel())))\n",
    "dissimilarity_features=np.reshape(np.array(dissimilarity).ravel(),(1,len(np.array(dissimilarity).ravel())))\n",
    "homogeneity_features=np.reshape(np.array(homogeneity).ravel(),(1,len(np.array(homogeneity).ravel())))\n",
    "energy_features=np.reshape(np.array(energy).ravel(),(1,len(np.array(energy).ravel())))\n",
    "correlation_features=np.reshape(np.array(correlation).ravel(),(1,len(np.array(correlation).ravel())))\n",
    "    \n",
    "\n",
    "        # Gabor filter\n",
    "gaborFilt_real,gaborFilt_imag = gabor(img,frequency=0.6)\n",
    "gaborFilt = (gaborFilt_real**2+gaborFilt_imag**2)//2\n",
    "gabor_hist,_ = np.histogram(gaborFilt,8)\n",
    "gabor_hist = np.array(gabor_hist,dtype=float)\n",
    "gabor_prob = np.divide(gabor_hist,np.sum(gabor_hist))\n",
    "gabor_energy = np.nansum(gabor_prob**2)\n",
    "gabor_entropy = -np.nansum(np.multiply(gabor_prob,np.log2(gabor_prob)))\n",
    "       \n",
    "gabor_hist_features = np.reshape(np.array(gabor_hist).ravel(),(1,len(np.array(gabor_hist).ravel())))\n",
    "gabor_prob_features=np.reshape(np.array(gabor_prob).ravel(),(1,len(np.array(gabor_prob).ravel())))\n",
    "gabor_ener_features=np.reshape(np.array(gabor_energy).ravel(),(1,len(np.array(gabor_energy).ravel())))\n",
    "gabor_entr_features=np.reshape(np.array(gabor_entropy).ravel(),(1,len(np.array(gabor_entropy).ravel())))\n",
    "       \n",
    "#features=np.concatenate((lbphist_features,lbpprob_features,lbpenrgy_features,lbpento_features,contrast_features,dissimilarity_features,homogeneity_features,energy_features,correlation_features,gabor_hist_features,gabor_prob_features,gabor_ener_features,gabor_entr_features),axis=1);\n",
    "features=np.concatenate((lbpenrgy_features,lbpento_features,contrast_features,dissimilarity_features,homogeneity_features,energy_features,correlation_features,gabor_ener_features,gabor_entr_features),axis=1);\n",
    "        "
   ]
  },
  {
   "cell_type": "code",
   "execution_count": 207,
   "id": "7d2c4ddf",
   "metadata": {},
   "outputs": [
    {
     "name": "stdout",
     "output_type": "stream",
     "text": [
      "[[-4.3705204   4.0758928  -0.23792957  1.11936698 -4.02446732 -4.5082801\n",
      "  -0.30213886  0.97006786 -1.05660935]]\n"
     ]
    },
    {
     "name": "stderr",
     "output_type": "stream",
     "text": [
      "C:\\Users\\user\\anaconda3\\envs\\user\\lib\\site-packages\\sklearn\\base.py:450: UserWarning: X does not have valid feature names, but StandardScaler was fitted with feature names\n",
      "  warnings.warn(\n"
     ]
    }
   ],
   "source": [
    "features=scalar.transform(features)\n",
    "print(features)"
   ]
  },
  {
   "cell_type": "code",
   "execution_count": 208,
   "id": "59c82b02",
   "metadata": {},
   "outputs": [
    {
     "data": {
      "text/plain": [
       "array([1, 0, 1, 0, 0, 1, 1, 1, 1, 1, 0, 0, 0, 1, 0, 1, 1, 0, 0, 0, 0, 1,\n",
       "       0, 1, 0])"
      ]
     },
     "execution_count": 208,
     "metadata": {},
     "output_type": "execute_result"
    }
   ],
   "source": [
    "classifier_svm = SVC(kernel='rbf', random_state=2,gamma='auto')  \n",
    "classifier_svm.fit(x_train, y_train) \n",
    "y_pred_svm= classifier_svm.predict(x_test)\n",
    "y_pred_svm"
   ]
  },
  {
   "cell_type": "code",
   "execution_count": 209,
   "id": "3d207515",
   "metadata": {},
   "outputs": [
    {
     "name": "stdout",
     "output_type": "stream",
     "text": [
      "With helmet\n"
     ]
    }
   ],
   "source": [
    "y1_pred= classifier_svm.predict(features)  \n",
    "if y1_pred == 0:\n",
    "    print(\"With helmet\")\n",
    "else:\n",
    "    print(\"Without helmet\")"
   ]
  },
  {
   "cell_type": "code",
   "execution_count": 210,
   "id": "c3ed33ef",
   "metadata": {},
   "outputs": [
    {
     "data": {
      "text/plain": [
       "0.56"
      ]
     },
     "execution_count": 210,
     "metadata": {},
     "output_type": "execute_result"
    }
   ],
   "source": [
    "accuracy = metrics.accuracy_score(y_test, y_pred_svm)\n",
    "accuracy "
   ]
  },
  {
   "cell_type": "code",
   "execution_count": 211,
   "id": "b96ea163",
   "metadata": {},
   "outputs": [
    {
     "data": {
      "text/plain": [
       "array([[7, 5],\n",
       "       [6, 7]], dtype=int64)"
      ]
     },
     "execution_count": 211,
     "metadata": {},
     "output_type": "execute_result"
    }
   ],
   "source": [
    "cm1= confusion_matrix(y_test, y_pred_svm) \n",
    "cm1= np.asarray(cm1)\n",
    "cm1"
   ]
  },
  {
   "cell_type": "code",
   "execution_count": 212,
   "id": "442ebb51",
   "metadata": {},
   "outputs": [
    {
     "name": "stderr",
     "output_type": "stream",
     "text": [
      "C:\\Users\\user\\anaconda3\\envs\\user\\lib\\site-packages\\sklearn\\utils\\deprecation.py:87: FutureWarning: Function plot_confusion_matrix is deprecated; Function `plot_confusion_matrix` is deprecated in 1.0 and will be removed in 1.2. Use one of the class methods: ConfusionMatrixDisplay.from_predictions or ConfusionMatrixDisplay.from_estimator.\n",
      "  warnings.warn(msg, category=FutureWarning)\n"
     ]
    },
    {
     "data": {
      "text/plain": [
       "<sklearn.metrics._plot.confusion_matrix.ConfusionMatrixDisplay at 0x17eff5a0400>"
      ]
     },
     "execution_count": 212,
     "metadata": {},
     "output_type": "execute_result"
    },
    {
     "data": {
      "image/png": "[encoded data removed]",
      "text/plain": [
       "<Figure size 640x480 with 2 Axes>"
      ]
     },
     "metadata": {},
     "output_type": "display_data"
    }
   ],
   "source": [
    "metrics.plot_confusion_matrix(classifier_svm, x_test, y_test)"
   ]
  },
  {
   "cell_type": "code",
   "execution_count": 213,
   "id": "bb73e12d",
   "metadata": {},
   "outputs": [
    {
     "name": "stdout",
     "output_type": "stream",
     "text": [
      "              precision    recall  f1-score   support\n",
      "\n",
      "           0       0.54      0.58      0.56        12\n",
      "           1       0.58      0.54      0.56        13\n",
      "\n",
      "    accuracy                           0.56        25\n",
      "   macro avg       0.56      0.56      0.56        25\n",
      "weighted avg       0.56      0.56      0.56        25\n",
      "\n"
     ]
    }
   ],
   "source": [
    "m=classification_report(y_test,y_pred_svm)\n",
    "print(m)"
   ]
  },
  {
   "cell_type": "code",
   "execution_count": null,
   "id": "b2da0132",
   "metadata": {},
   "outputs": [],
   "source": []
  },
  {
   "cell_type": "code",
   "execution_count": 214,
   "id": "9f223279",
   "metadata": {},
   "outputs": [
    {
     "data": {
      "text/plain": [
       "5.0"
      ]
     },
     "execution_count": 214,
     "metadata": {},
     "output_type": "execute_result"
    }
   ],
   "source": [
    "import math\n",
    "math.sqrt(len(y_test))"
   ]
  },
  {
   "cell_type": "code",
   "execution_count": 215,
   "id": "2351a4fe",
   "metadata": {},
   "outputs": [],
   "source": [
    "from sklearn.neighbors import KNeighborsClassifier  \n",
    "classifier_knn =  KNeighborsClassifier(n_neighbors=5, metric='minkowski',algorithm = 'brute')  \n",
    "classifier_knn.fit(x_train, y_train)  \n",
    "y_pred_knn= classifier_knn.predict(x_test)  "
   ]
  },
  {
   "cell_type": "code",
   "execution_count": 216,
   "id": "d8a9f7cb",
   "metadata": {},
   "outputs": [
    {
     "data": {
      "text/plain": [
       "0.52"
      ]
     },
     "execution_count": 216,
     "metadata": {},
     "output_type": "execute_result"
    }
   ],
   "source": [
    "accuracy = metrics.accuracy_score(y_test, y_pred_knn)\n",
    "accuracy "
   ]
  },
  {
   "cell_type": "code",
   "execution_count": 217,
   "id": "bf4b357d",
   "metadata": {},
   "outputs": [
    {
     "name": "stdout",
     "output_type": "stream",
     "text": [
      "With helmet\n"
     ]
    }
   ],
   "source": [
    "y1_pred= classifier_knn.predict(features)  \n",
    "if y1_pred == 0:\n",
    "    print(\"With helmet\")\n",
    "else:\n",
    "    print(\"Without helmet\")"
   ]
  },
  {
   "cell_type": "code",
   "execution_count": 218,
   "id": "6b25349b",
   "metadata": {},
   "outputs": [
    {
     "data": {
      "text/plain": [
       "0.4999999999999999"
      ]
     },
     "execution_count": 218,
     "metadata": {},
     "output_type": "execute_result"
    }
   ],
   "source": [
    "from sklearn.metrics import f1_score\n",
    "f1_score(y_test,y_pred_knn)"
   ]
  },
  {
   "cell_type": "code",
   "execution_count": 219,
   "id": "32c64e2c",
   "metadata": {},
   "outputs": [
    {
     "data": {
      "text/plain": [
       "array([[7, 5],\n",
       "       [7, 6]], dtype=int64)"
      ]
     },
     "execution_count": 219,
     "metadata": {},
     "output_type": "execute_result"
    }
   ],
   "source": [
    "cm2= confusion_matrix(y_test, y_pred_knn) \n",
    "cm2= np.asarray(cm2)\n",
    "cm2"
   ]
  },
  {
   "cell_type": "code",
   "execution_count": 220,
   "id": "99767d54",
   "metadata": {},
   "outputs": [
    {
     "name": "stdout",
     "output_type": "stream",
     "text": [
      "              precision    recall  f1-score   support\n",
      "\n",
      "           0       0.50      0.58      0.54        12\n",
      "           1       0.55      0.46      0.50        13\n",
      "\n",
      "    accuracy                           0.52        25\n",
      "   macro avg       0.52      0.52      0.52        25\n",
      "weighted avg       0.52      0.52      0.52        25\n",
      "\n"
     ]
    }
   ],
   "source": [
    "m=classification_report(y_test,y_pred_knn)\n",
    "print(m)"
   ]
  },
  {
   "cell_type": "code",
   "execution_count": 221,
   "id": "97d49d6b",
   "metadata": {},
   "outputs": [
    {
     "name": "stderr",
     "output_type": "stream",
     "text": [
      "C:\\Users\\user\\anaconda3\\envs\\user\\lib\\site-packages\\sklearn\\utils\\deprecation.py:87: FutureWarning: Function plot_confusion_matrix is deprecated; Function `plot_confusion_matrix` is deprecated in 1.0 and will be removed in 1.2. Use one of the class methods: ConfusionMatrixDisplay.from_predictions or ConfusionMatrixDisplay.from_estimator.\n",
      "  warnings.warn(msg, category=FutureWarning)\n"
     ]
    },
    {
     "data": {
      "text/plain": [
       "<sklearn.metrics._plot.confusion_matrix.ConfusionMatrixDisplay at 0x17eff59d190>"
      ]
     },
     "execution_count": 221,
     "metadata": {},
     "output_type": "execute_result"
    },
    {
     "data": {
      "image/png": "[encoded data removed]",
      "text/plain": [
       "<Figure size 640x480 with 2 Axes>"
      ]
     },
     "metadata": {},
     "output_type": "display_data"
    }
   ],
   "source": [
    "metrics.plot_confusion_matrix(classifier_knn, x_test, y_test)"
   ]
  },
  {
   "cell_type": "code",
   "execution_count": null,
   "id": "8d40f8c7",
   "metadata": {},
   "outputs": [],
   "source": []
  },
  {
   "cell_type": "code",
   "execution_count": 222,
   "id": "af3fb451",
   "metadata": {},
   "outputs": [
    {
     "data": {
      "text/plain": [
       "array([0, 0, 1, 0, 0, 0, 1, 1, 0, 1, 1, 0, 0, 1, 0, 1, 1, 0, 0, 0, 0, 1,\n",
       "       0, 1, 0])"
      ]
     },
     "execution_count": 222,
     "metadata": {},
     "output_type": "execute_result"
    }
   ],
   "source": [
    "from sklearn.ensemble import RandomForestClassifier\n",
    "randclassi=RandomForestClassifier(criterion='gini',max_features='sqrt',n_jobs=2)\n",
    "randclassi.fit(x_train, y_train)\n",
    "y_pred_ranfor=randclassi.predict(x_test)\n",
    "y_pred_ranfor"
   ]
  },
  {
   "cell_type": "code",
   "execution_count": 223,
   "id": "1596e1df",
   "metadata": {},
   "outputs": [
    {
     "data": {
      "text/plain": [
       "0.56"
      ]
     },
     "execution_count": 223,
     "metadata": {},
     "output_type": "execute_result"
    }
   ],
   "source": [
    "accuracy = metrics.accuracy_score(y_test, y_pred_ranfor)\n",
    "accuracy "
   ]
  },
  {
   "cell_type": "code",
   "execution_count": 224,
   "id": "f4f53e0c",
   "metadata": {},
   "outputs": [
    {
     "name": "stdout",
     "output_type": "stream",
     "text": [
      "With helmet\n"
     ]
    }
   ],
   "source": [
    "y1_pred= randclassi.predict(features)  \n",
    "if y1_pred == 0:\n",
    "    print(\"With helmet\")\n",
    "else:\n",
    "    print(\"Without helmet\")"
   ]
  },
  {
   "cell_type": "code",
   "execution_count": 225,
   "id": "3ea2fc47",
   "metadata": {},
   "outputs": [
    {
     "data": {
      "text/plain": [
       "array([[8, 4],\n",
       "       [7, 6]], dtype=int64)"
      ]
     },
     "execution_count": 225,
     "metadata": {},
     "output_type": "execute_result"
    }
   ],
   "source": [
    "cm3= confusion_matrix(y_test, y_pred_ranfor) \n",
    "cm3= np.asarray(cm3)\n",
    "cm3"
   ]
  },
  {
   "cell_type": "code",
   "execution_count": 226,
   "id": "87a68359",
   "metadata": {},
   "outputs": [
    {
     "name": "stdout",
     "output_type": "stream",
     "text": [
      "              precision    recall  f1-score   support\n",
      "\n",
      "           0       0.53      0.67      0.59        12\n",
      "           1       0.60      0.46      0.52        13\n",
      "\n",
      "    accuracy                           0.56        25\n",
      "   macro avg       0.57      0.56      0.56        25\n",
      "weighted avg       0.57      0.56      0.56        25\n",
      "\n"
     ]
    }
   ],
   "source": [
    "m=classification_report(y_test,y_pred_ranfor)\n",
    "print(m)"
   ]
  },
  {
   "cell_type": "code",
   "execution_count": 227,
   "id": "86b801de",
   "metadata": {},
   "outputs": [
    {
     "name": "stderr",
     "output_type": "stream",
     "text": [
      "C:\\Users\\user\\anaconda3\\envs\\user\\lib\\site-packages\\sklearn\\utils\\deprecation.py:87: FutureWarning: Function plot_confusion_matrix is deprecated; Function `plot_confusion_matrix` is deprecated in 1.0 and will be removed in 1.2. Use one of the class methods: ConfusionMatrixDisplay.from_predictions or ConfusionMatrixDisplay.from_estimator.\n",
      "  warnings.warn(msg, category=FutureWarning)\n"
     ]
    },
    {
     "data": {
      "text/plain": [
       "<sklearn.metrics._plot.confusion_matrix.ConfusionMatrixDisplay at 0x17eff798430>"
      ]
     },
     "execution_count": 227,
     "metadata": {},
     "output_type": "execute_result"
    },
    {
     "data": {
      "image/png": "[encoded data removed]",
      "text/plain": [
       "<Figure size 640x480 with 2 Axes>"
      ]
     },
     "metadata": {},
     "output_type": "display_data"
    }
   ],
   "source": [
    "metrics.plot_confusion_matrix(randclassi, x_test, y_test)"
   ]
  },
  {
   "cell_type": "code",
   "execution_count": null,
   "id": "e215bde4",
   "metadata": {},
   "outputs": [],
   "source": []
  },
  {
   "cell_type": "code",
   "execution_count": 228,
   "id": "1c9fa3d1",
   "metadata": {},
   "outputs": [
    {
     "data": {
      "text/plain": [
       "array([1, 0, 1, 0, 0, 1, 1, 1, 1, 1, 1, 1, 0, 1, 0, 1, 1, 0, 0, 1, 0, 1,\n",
       "       0, 0, 1])"
      ]
     },
     "execution_count": 228,
     "metadata": {},
     "output_type": "execute_result"
    }
   ],
   "source": [
    "from sklearn.naive_bayes import GaussianNB\n",
    "classifier_gauss = GaussianNB()\n",
    "classifier_gauss.fit(x_train, y_train)\n",
    "y_pred_gauss=classifier_gauss.predict(x_test)\n",
    "y_pred_gauss"
   ]
  },
  {
   "cell_type": "code",
   "execution_count": 229,
   "id": "39ae7416",
   "metadata": {},
   "outputs": [
    {
     "data": {
      "text/plain": [
       "0.52"
      ]
     },
     "execution_count": 229,
     "metadata": {},
     "output_type": "execute_result"
    }
   ],
   "source": [
    "accuracy = metrics.accuracy_score(y_test, y_pred_gauss)\n",
    "accuracy "
   ]
  },
  {
   "cell_type": "code",
   "execution_count": 230,
   "id": "f3a5e795",
   "metadata": {},
   "outputs": [
    {
     "name": "stdout",
     "output_type": "stream",
     "text": [
      "With helmet\n"
     ]
    }
   ],
   "source": [
    "y1_pred= classifier_gauss.predict(features)  \n",
    "if y1_pred == 0:\n",
    "    print(\"With helmet\")\n",
    "else:\n",
    "    print(\"Without helmet\")"
   ]
  },
  {
   "cell_type": "code",
   "execution_count": 231,
   "id": "b1961332",
   "metadata": {},
   "outputs": [
    {
     "data": {
      "text/plain": [
       "array([[5, 7],\n",
       "       [5, 8]], dtype=int64)"
      ]
     },
     "execution_count": 231,
     "metadata": {},
     "output_type": "execute_result"
    }
   ],
   "source": [
    "cm4= confusion_matrix(y_test, y_pred_gauss) \n",
    "cm4= np.asarray(cm4)\n",
    "cm4"
   ]
  },
  {
   "cell_type": "code",
   "execution_count": 232,
   "id": "68ae0237",
   "metadata": {},
   "outputs": [
    {
     "name": "stdout",
     "output_type": "stream",
     "text": [
      "              precision    recall  f1-score   support\n",
      "\n",
      "           0       0.50      0.42      0.45        12\n",
      "           1       0.53      0.62      0.57        13\n",
      "\n",
      "    accuracy                           0.52        25\n",
      "   macro avg       0.52      0.52      0.51        25\n",
      "weighted avg       0.52      0.52      0.52        25\n",
      "\n"
     ]
    }
   ],
   "source": [
    "m=classification_report(y_test,y_pred_gauss)\n",
    "print(m)"
   ]
  },
  {
   "cell_type": "code",
   "execution_count": 233,
   "id": "93ba8f2e",
   "metadata": {},
   "outputs": [
    {
     "name": "stderr",
     "output_type": "stream",
     "text": [
      "C:\\Users\\user\\anaconda3\\envs\\user\\lib\\site-packages\\sklearn\\utils\\deprecation.py:87: FutureWarning: Function plot_confusion_matrix is deprecated; Function `plot_confusion_matrix` is deprecated in 1.0 and will be removed in 1.2. Use one of the class methods: ConfusionMatrixDisplay.from_predictions or ConfusionMatrixDisplay.from_estimator.\n",
      "  warnings.warn(msg, category=FutureWarning)\n"
     ]
    },
    {
     "data": {
      "text/plain": [
       "<sklearn.metrics._plot.confusion_matrix.ConfusionMatrixDisplay at 0x17eff934730>"
      ]
     },
     "execution_count": 233,
     "metadata": {},
     "output_type": "execute_result"
    },
    {
     "data": {
      "image/png": "[encoded data removed]",
      "text/plain": [
       "<Figure size 640x480 with 2 Axes>"
      ]
     },
     "metadata": {},
     "output_type": "display_data"
    }
   ],
   "source": [
    "metrics.plot_confusion_matrix(classifier_gauss, x_test, y_test)"
   ]
  },
  {
   "cell_type": "code",
   "execution_count": null,
   "id": "838a783d",
   "metadata": {},
   "outputs": [],
   "source": []
  },
  {
   "cell_type": "code",
   "execution_count": 234,
   "id": "130c4cda",
   "metadata": {},
   "outputs": [
    {
     "data": {
      "text/plain": [
       "array([1, 0, 1, 0, 1, 0, 1, 0, 0, 0, 0, 0, 0, 1, 0, 1, 1, 0, 0, 0, 0, 1,\n",
       "       0, 0, 0])"
      ]
     },
     "execution_count": 234,
     "metadata": {},
     "output_type": "execute_result"
    }
   ],
   "source": [
    "from sklearn.tree import DecisionTreeClassifier\n",
    "classifier_dtree = DecisionTreeClassifier(criterion = 'gini')\n",
    "classifier_dtree.fit(x_train, y_train)\n",
    "y_pred_dtree=classifier_dtree.predict(x_test)\n",
    "y_pred_dtree"
   ]
  },
  {
   "cell_type": "code",
   "execution_count": 235,
   "id": "02b5ad7a",
   "metadata": {},
   "outputs": [
    {
     "data": {
      "text/plain": [
       "[Text(0.5961538461538461, 0.9444444444444444, 'X[3] <= 0.07\\ngini = 0.497\\nsamples = 98\\nvalue = [45, 53]'),\n",
       " Text(0.38461538461538464, 0.8333333333333334, 'X[6] <= -0.498\\ngini = 0.348\\nsamples = 58\\nvalue = [13, 45]'),\n",
       " Text(0.23076923076923078, 0.7222222222222222, 'X[4] <= 0.952\\ngini = 0.499\\nsamples = 19\\nvalue = [10, 9]'),\n",
       " Text(0.15384615384615385, 0.6111111111111112, 'X[6] <= -0.934\\ngini = 0.375\\nsamples = 12\\nvalue = [9, 3]'),\n",
       " Text(0.11538461538461539, 0.5, 'X[6] <= -1.031\\ngini = 0.5\\nsamples = 6\\nvalue = [3, 3]'),\n",
       " Text(0.07692307692307693, 0.3888888888888889, 'X[1] <= -0.378\\ngini = 0.375\\nsamples = 4\\nvalue = [3, 1]'),\n",
       " Text(0.038461538461538464, 0.2777777777777778, 'gini = 0.0\\nsamples = 3\\nvalue = [3, 0]'),\n",
       " Text(0.11538461538461539, 0.2777777777777778, 'gini = 0.0\\nsamples = 1\\nvalue = [0, 1]'),\n",
       " Text(0.15384615384615385, 0.3888888888888889, 'gini = 0.0\\nsamples = 2\\nvalue = [0, 2]'),\n",
       " Text(0.19230769230769232, 0.5, 'gini = 0.0\\nsamples = 6\\nvalue = [6, 0]'),\n",
       " Text(0.3076923076923077, 0.6111111111111112, 'X[2] <= -0.808\\ngini = 0.245\\nsamples = 7\\nvalue = [1, 6]'),\n",
       " Text(0.2692307692307692, 0.5, 'gini = 0.0\\nsamples = 4\\nvalue = [0, 4]'),\n",
       " Text(0.34615384615384615, 0.5, 'X[7] <= 0.731\\ngini = 0.444\\nsamples = 3\\nvalue = [1, 2]'),\n",
       " Text(0.3076923076923077, 0.3888888888888889, 'gini = 0.0\\nsamples = 2\\nvalue = [0, 2]'),\n",
       " Text(0.38461538461538464, 0.3888888888888889, 'gini = 0.0\\nsamples = 1\\nvalue = [1, 0]'),\n",
       " Text(0.5384615384615384, 0.7222222222222222, 'X[3] <= -0.652\\ngini = 0.142\\nsamples = 39\\nvalue = [3, 36]'),\n",
       " Text(0.5, 0.6111111111111112, 'gini = 0.0\\nsamples = 19\\nvalue = [0, 19]'),\n",
       " Text(0.5769230769230769, 0.6111111111111112, 'X[3] <= -0.558\\ngini = 0.255\\nsamples = 20\\nvalue = [3, 17]'),\n",
       " Text(0.5, 0.5, 'X[6] <= 0.228\\ngini = 0.444\\nsamples = 3\\nvalue = [2, 1]'),\n",
       " Text(0.46153846153846156, 0.3888888888888889, 'gini = 0.0\\nsamples = 1\\nvalue = [0, 1]'),\n",
       " Text(0.5384615384615384, 0.3888888888888889, 'gini = 0.0\\nsamples = 2\\nvalue = [2, 0]'),\n",
       " Text(0.6538461538461539, 0.5, 'X[4] <= -0.094\\ngini = 0.111\\nsamples = 17\\nvalue = [1, 16]'),\n",
       " Text(0.6153846153846154, 0.3888888888888889, 'X[6] <= 1.023\\ngini = 0.375\\nsamples = 4\\nvalue = [1, 3]'),\n",
       " Text(0.5769230769230769, 0.2777777777777778, 'gini = 0.0\\nsamples = 1\\nvalue = [1, 0]'),\n",
       " Text(0.6538461538461539, 0.2777777777777778, 'gini = 0.0\\nsamples = 3\\nvalue = [0, 3]'),\n",
       " Text(0.6923076923076923, 0.3888888888888889, 'gini = 0.0\\nsamples = 13\\nvalue = [0, 13]'),\n",
       " Text(0.8076923076923077, 0.8333333333333334, 'X[6] <= -1.479\\ngini = 0.32\\nsamples = 40\\nvalue = [32, 8]'),\n",
       " Text(0.7692307692307693, 0.7222222222222222, 'gini = 0.0\\nsamples = 3\\nvalue = [0, 3]'),\n",
       " Text(0.8461538461538461, 0.7222222222222222, 'X[6] <= 1.269\\ngini = 0.234\\nsamples = 37\\nvalue = [32, 5]'),\n",
       " Text(0.7692307692307693, 0.6111111111111112, 'X[6] <= -0.313\\ngini = 0.161\\nsamples = 34\\nvalue = [31, 3]'),\n",
       " Text(0.7307692307692307, 0.5, 'gini = 0.0\\nsamples = 16\\nvalue = [16, 0]'),\n",
       " Text(0.8076923076923077, 0.5, 'X[6] <= -0.247\\ngini = 0.278\\nsamples = 18\\nvalue = [15, 3]'),\n",
       " Text(0.7692307692307693, 0.3888888888888889, 'gini = 0.0\\nsamples = 1\\nvalue = [0, 1]'),\n",
       " Text(0.8461538461538461, 0.3888888888888889, 'X[6] <= 0.351\\ngini = 0.208\\nsamples = 17\\nvalue = [15, 2]'),\n",
       " Text(0.8076923076923077, 0.2777777777777778, 'X[6] <= -0.079\\ngini = 0.375\\nsamples = 8\\nvalue = [6, 2]'),\n",
       " Text(0.7692307692307693, 0.16666666666666666, 'gini = 0.0\\nsamples = 5\\nvalue = [5, 0]'),\n",
       " Text(0.8461538461538461, 0.16666666666666666, 'X[8] <= -0.169\\ngini = 0.444\\nsamples = 3\\nvalue = [1, 2]'),\n",
       " Text(0.8076923076923077, 0.05555555555555555, 'gini = 0.0\\nsamples = 1\\nvalue = [1, 0]'),\n",
       " Text(0.8846153846153846, 0.05555555555555555, 'gini = 0.0\\nsamples = 2\\nvalue = [0, 2]'),\n",
       " Text(0.8846153846153846, 0.2777777777777778, 'gini = 0.0\\nsamples = 9\\nvalue = [9, 0]'),\n",
       " Text(0.9230769230769231, 0.6111111111111112, 'X[2] <= 0.525\\ngini = 0.444\\nsamples = 3\\nvalue = [1, 2]'),\n",
       " Text(0.8846153846153846, 0.5, 'gini = 0.0\\nsamples = 1\\nvalue = [1, 0]'),\n",
       " Text(0.9615384615384616, 0.5, 'gini = 0.0\\nsamples = 2\\nvalue = [0, 2]')]"
      ]
     },
     "execution_count": 235,
     "metadata": {},
     "output_type": "execute_result"
    },
    {
     "data": {
      "image/png": "[encoded data removed]",
      "text/plain": [
       "<Figure size 640x480 with 1 Axes>"
      ]
     },
     "metadata": {},
     "output_type": "display_data"
    }
   ],
   "source": [
    "from sklearn import tree\n",
    "tree.plot_tree(classifier_dtree)"
   ]
  },
  {
   "cell_type": "code",
   "execution_count": 236,
   "id": "2ccf37a5",
   "metadata": {},
   "outputs": [
    {
     "name": "stdout",
     "output_type": "stream",
     "text": [
      "Without helmet\n"
     ]
    }
   ],
   "source": [
    "y1_pred= classifier_dtree.predict(features)  \n",
    "if y1_pred == 0:\n",
    "    print(\"With helmet\")\n",
    "else:\n",
    "    print(\"Without helmet\")"
   ]
  },
  {
   "cell_type": "code",
   "execution_count": 237,
   "id": "54f8ef99",
   "metadata": {},
   "outputs": [
    {
     "data": {
      "text/plain": [
       "0.72"
      ]
     },
     "execution_count": 237,
     "metadata": {},
     "output_type": "execute_result"
    }
   ],
   "source": [
    "accuracy = metrics.accuracy_score(y_test, y_pred_dtree)\n",
    "accuracy "
   ]
  },
  {
   "cell_type": "code",
   "execution_count": 238,
   "id": "01ca030b",
   "metadata": {},
   "outputs": [
    {
     "data": {
      "text/plain": [
       "array([[11,  1],\n",
       "       [ 6,  7]], dtype=int64)"
      ]
     },
     "execution_count": 238,
     "metadata": {},
     "output_type": "execute_result"
    }
   ],
   "source": [
    "cm6= confusion_matrix(y_test, y_pred_dtree)\n",
    "cm6= np.asarray(cm6)\n",
    "cm6"
   ]
  },
  {
   "cell_type": "code",
   "execution_count": 191,
   "id": "ca6363f7",
   "metadata": {},
   "outputs": [
    {
     "name": "stdout",
     "output_type": "stream",
     "text": [
      "              precision    recall  f1-score   support\n",
      "\n",
      "           0       0.65      0.92      0.76        12\n",
      "           1       0.88      0.54      0.67        13\n",
      "\n",
      "    accuracy                           0.72        25\n",
      "   macro avg       0.76      0.73      0.71        25\n",
      "weighted avg       0.77      0.72      0.71        25\n",
      "\n"
     ]
    }
   ],
   "source": [
    "m=classification_report(y_test,y_pred_dtree)\n",
    "print(m)"
   ]
  },
  {
   "cell_type": "code",
   "execution_count": 192,
   "id": "6dadbb88",
   "metadata": {},
   "outputs": [
    {
     "name": "stderr",
     "output_type": "stream",
     "text": [
      "C:\\Users\\user\\anaconda3\\envs\\user\\lib\\site-packages\\sklearn\\utils\\deprecation.py:87: FutureWarning: Function plot_confusion_matrix is deprecated; Function `plot_confusion_matrix` is deprecated in 1.0 and will be removed in 1.2. Use one of the class methods: ConfusionMatrixDisplay.from_predictions or ConfusionMatrixDisplay.from_estimator.\n",
      "  warnings.warn(msg, category=FutureWarning)\n"
     ]
    },
    {
     "data": {
      "text/plain": [
       "<sklearn.metrics._plot.confusion_matrix.ConfusionMatrixDisplay at 0x17eff4beac0>"
      ]
     },
     "execution_count": 192,
     "metadata": {},
     "output_type": "execute_result"
    },
    {
     "data": {
      "image/png": "[encoded data removed]",
      "text/plain": [
       "<Figure size 640x480 with 2 Axes>"
      ]
     },
     "metadata": {},
     "output_type": "display_data"
    }
   ],
   "source": [
    "metrics.plot_confusion_matrix(classifier_dtree, x_test, y_test)"
   ]
  },
  {
   "cell_type": "code",
   "execution_count": null,
   "id": "10b32f93",
   "metadata": {},
   "outputs": [],
   "source": []
  },
  {
   "cell_type": "code",
   "execution_count": 193,
   "id": "6a216f33",
   "metadata": {},
   "outputs": [
    {
     "data": {
      "image/png": "[encoded data removed]",
      "text/plain": [
       "<Figure size 640x480 with 1 Axes>"
      ]
     },
     "metadata": {},
     "output_type": "display_data"
    }
   ],
   "source": [
    "fpr1, tpr1, thresholds1 = roc_curve(y_test, y_pred_svm)\n",
    "plt.plot(fpr1, tpr1, label = 'SVM')\n",
    "fpr2, tpr2, thresholds2 = roc_curve(y_test, y_pred_knn)\n",
    "plt.plot(fpr2, tpr2, label = 'KNN' )\n",
    "fpr3, tpr3, thresholds3 = roc_curve(y_test, y_pred_ranfor)\n",
    "plt.plot(fpr3, tpr3, label='Random forest')\n",
    "fpr6, tpr6, thresholds6 = roc_curve(y_test, y_pred_dtree)\n",
    "plt.plot(fpr6, tpr6, label='DecisionTree')\n",
    "plt.xlabel('False Positive Rate')\n",
    "plt.ylabel('True Positive Rate')\n",
    "plt.title('ROC Curve')\n",
    "plt.legend()\n",
    "plt.show()"
   ]
  },
  {
   "cell_type": "code",
   "execution_count": null,
   "id": "d1a3f8bb",
   "metadata": {},
   "outputs": [],
   "source": []
  },
  {
   "cell_type": "code",
   "execution_count": null,
   "id": "fe1d7b00",
   "metadata": {},
   "outputs": [],
   "source": []
  }
 ],
 "metadata": {
  "kernelspec": {
   "display_name": "Python 3 (ipykernel)",
   "language": "python",
   "name": "python3"
  },
  "language_info": {
   "codemirror_mode": {
    "name": "ipython",
    "version": 3
   },
   "file_extension": ".py",
   "mimetype": "text/x-python",
   "name": "python",
   "nbconvert_exporter": "python",
   "pygments_lexer": "ipython3",
   "version": "3.9.13"
  }
 },
 "nbformat": 4,
 "nbformat_minor": 5
}
