{
 "cells": [
  {
   "cell_type": "code",
   "execution_count": 1,
   "id": "0440b7a0",
   "metadata": {},
   "outputs": [],
   "source": [
    "import numpy as np\n",
    "import matplotlib.pyplot as plt\n",
    "import pandas as pd\n",
    "import seaborn as sns\n",
    "from sklearn.preprocessing import LabelEncoder,StandardScaler\n",
    "from sklearn.model_selection import train_test_split \n",
    "from sklearn.svm import SVC\n",
    "import cv2\n",
    "import pywt\n",
    "from skimage.feature import local_binary_pattern, greycomatrix,greycoprops,hog\n",
    "from skimage.filters import gabor\n",
    "from sklearn import metrics\n",
    "from sklearn.metrics import confusion_matrix,roc_curve,classification_report\n",
    "import numpy as np"
   ]
  },
  {
   "cell_type": "code",
   "execution_count": 2,
   "id": "2efbc88f",
   "metadata": {},
   "outputs": [],
   "source": [
    "df=pd.read_csv(r\"C:\\Users\\user\\Desktop\\MCA\\SEM 3\\Project\\programs\\features_hog.csv\")"
   ]
  },
  {
   "cell_type": "code",
   "execution_count": 3,
   "id": "0b64c906",
   "metadata": {},
   "outputs": [
    {
     "data": {
      "text/html": [
       "<div>\n",
       "<style scoped>\n",
       "    .dataframe tbody tr th:only-of-type {\n",
       "        vertical-align: middle;\n",
       "    }\n",
       "\n",
       "    .dataframe tbody tr th {\n",
       "        vertical-align: top;\n",
       "    }\n",
       "\n",
       "    .dataframe thead th {\n",
       "        text-align: right;\n",
       "    }\n",
       "</style>\n",
       "<table border=\"1\" class=\"dataframe\">\n",
       "  <thead>\n",
       "    <tr style=\"text-align: right;\">\n",
       "      <th></th>\n",
       "      <th>Unnamed: 0</th>\n",
       "      <th>Unnamed: 1</th>\n",
       "      <th>Unnamed: 2</th>\n",
       "      <th>Unnamed: 3</th>\n",
       "      <th>Unnamed: 4</th>\n",
       "      <th>Unnamed: 5</th>\n",
       "      <th>Unnamed: 6</th>\n",
       "      <th>Unnamed: 7</th>\n",
       "      <th>Unnamed: 8</th>\n",
       "      <th>outcome</th>\n",
       "    </tr>\n",
       "  </thead>\n",
       "  <tbody>\n",
       "    <tr>\n",
       "      <th>0</th>\n",
       "      <td>0.847880</td>\n",
       "      <td>0.590548</td>\n",
       "      <td>48.085815</td>\n",
       "      <td>1.182206</td>\n",
       "      <td>0.911812</td>\n",
       "      <td>0.879355</td>\n",
       "      <td>0.606393</td>\n",
       "      <td>0.973839</td>\n",
       "      <td>0.129808</td>\n",
       "      <td>with helmet</td>\n",
       "    </tr>\n",
       "    <tr>\n",
       "      <th>1</th>\n",
       "      <td>0.685346</td>\n",
       "      <td>1.090516</td>\n",
       "      <td>138.541353</td>\n",
       "      <td>2.891792</td>\n",
       "      <td>0.805732</td>\n",
       "      <td>0.737047</td>\n",
       "      <td>0.600127</td>\n",
       "      <td>0.934522</td>\n",
       "      <td>0.285094</td>\n",
       "      <td>with helmet</td>\n",
       "    </tr>\n",
       "    <tr>\n",
       "      <th>2</th>\n",
       "      <td>0.843762</td>\n",
       "      <td>0.604311</td>\n",
       "      <td>44.511642</td>\n",
       "      <td>1.137569</td>\n",
       "      <td>0.910226</td>\n",
       "      <td>0.876347</td>\n",
       "      <td>0.632382</td>\n",
       "      <td>0.977506</td>\n",
       "      <td>0.113224</td>\n",
       "      <td>with helmet</td>\n",
       "    </tr>\n",
       "    <tr>\n",
       "      <th>3</th>\n",
       "      <td>0.688089</td>\n",
       "      <td>1.089681</td>\n",
       "      <td>181.972444</td>\n",
       "      <td>3.521278</td>\n",
       "      <td>0.801132</td>\n",
       "      <td>0.741974</td>\n",
       "      <td>0.614843</td>\n",
       "      <td>0.901392</td>\n",
       "      <td>0.405674</td>\n",
       "      <td>with helmet</td>\n",
       "    </tr>\n",
       "    <tr>\n",
       "      <th>4</th>\n",
       "      <td>0.861559</td>\n",
       "      <td>0.546654</td>\n",
       "      <td>63.677669</td>\n",
       "      <td>1.309211</td>\n",
       "      <td>0.918778</td>\n",
       "      <td>0.890248</td>\n",
       "      <td>0.432516</td>\n",
       "      <td>0.967031</td>\n",
       "      <td>0.161891</td>\n",
       "      <td>with helmet</td>\n",
       "    </tr>\n",
       "  </tbody>\n",
       "</table>\n",
       "</div>"
      ],
      "text/plain": [
       "   Unnamed: 0  Unnamed: 1  Unnamed: 2  Unnamed: 3  Unnamed: 4  Unnamed: 5  \\\n",
       "0    0.847880    0.590548   48.085815    1.182206    0.911812    0.879355   \n",
       "1    0.685346    1.090516  138.541353    2.891792    0.805732    0.737047   \n",
       "2    0.843762    0.604311   44.511642    1.137569    0.910226    0.876347   \n",
       "3    0.688089    1.089681  181.972444    3.521278    0.801132    0.741974   \n",
       "4    0.861559    0.546654   63.677669    1.309211    0.918778    0.890248   \n",
       "\n",
       "   Unnamed: 6  Unnamed: 7  Unnamed: 8      outcome  \n",
       "0    0.606393    0.973839    0.129808  with helmet  \n",
       "1    0.600127    0.934522    0.285094  with helmet  \n",
       "2    0.632382    0.977506    0.113224  with helmet  \n",
       "3    0.614843    0.901392    0.405674  with helmet  \n",
       "4    0.432516    0.967031    0.161891  with helmet  "
      ]
     },
     "execution_count": 3,
     "metadata": {},
     "output_type": "execute_result"
    }
   ],
   "source": [
    "df.head()"
   ]
  },
  {
   "cell_type": "code",
   "execution_count": 4,
   "id": "12a8b287",
   "metadata": {},
   "outputs": [],
   "source": [
    "l=LabelEncoder()"
   ]
  },
  {
   "cell_type": "code",
   "execution_count": 5,
   "id": "22e77fca",
   "metadata": {},
   "outputs": [],
   "source": [
    "df[\"outcome\"]=l.fit_transform(df.outcome)"
   ]
  },
  {
   "cell_type": "code",
   "execution_count": 6,
   "id": "8c2e2fb0",
   "metadata": {},
   "outputs": [
    {
     "data": {
      "text/html": [
       "<div>\n",
       "<style scoped>\n",
       "    .dataframe tbody tr th:only-of-type {\n",
       "        vertical-align: middle;\n",
       "    }\n",
       "\n",
       "    .dataframe tbody tr th {\n",
       "        vertical-align: top;\n",
       "    }\n",
       "\n",
       "    .dataframe thead th {\n",
       "        text-align: right;\n",
       "    }\n",
       "</style>\n",
       "<table border=\"1\" class=\"dataframe\">\n",
       "  <thead>\n",
       "    <tr style=\"text-align: right;\">\n",
       "      <th></th>\n",
       "      <th>Unnamed: 0</th>\n",
       "      <th>Unnamed: 1</th>\n",
       "      <th>Unnamed: 2</th>\n",
       "      <th>Unnamed: 3</th>\n",
       "      <th>Unnamed: 4</th>\n",
       "      <th>Unnamed: 5</th>\n",
       "      <th>Unnamed: 6</th>\n",
       "      <th>Unnamed: 7</th>\n",
       "      <th>Unnamed: 8</th>\n",
       "      <th>outcome</th>\n",
       "    </tr>\n",
       "  </thead>\n",
       "  <tbody>\n",
       "    <tr>\n",
       "      <th>0</th>\n",
       "      <td>0.847880</td>\n",
       "      <td>0.590548</td>\n",
       "      <td>48.085815</td>\n",
       "      <td>1.182206</td>\n",
       "      <td>0.911812</td>\n",
       "      <td>0.879355</td>\n",
       "      <td>0.606393</td>\n",
       "      <td>0.973839</td>\n",
       "      <td>0.129808</td>\n",
       "      <td>0</td>\n",
       "    </tr>\n",
       "    <tr>\n",
       "      <th>1</th>\n",
       "      <td>0.685346</td>\n",
       "      <td>1.090516</td>\n",
       "      <td>138.541353</td>\n",
       "      <td>2.891792</td>\n",
       "      <td>0.805732</td>\n",
       "      <td>0.737047</td>\n",
       "      <td>0.600127</td>\n",
       "      <td>0.934522</td>\n",
       "      <td>0.285094</td>\n",
       "      <td>0</td>\n",
       "    </tr>\n",
       "    <tr>\n",
       "      <th>2</th>\n",
       "      <td>0.843762</td>\n",
       "      <td>0.604311</td>\n",
       "      <td>44.511642</td>\n",
       "      <td>1.137569</td>\n",
       "      <td>0.910226</td>\n",
       "      <td>0.876347</td>\n",
       "      <td>0.632382</td>\n",
       "      <td>0.977506</td>\n",
       "      <td>0.113224</td>\n",
       "      <td>0</td>\n",
       "    </tr>\n",
       "    <tr>\n",
       "      <th>3</th>\n",
       "      <td>0.688089</td>\n",
       "      <td>1.089681</td>\n",
       "      <td>181.972444</td>\n",
       "      <td>3.521278</td>\n",
       "      <td>0.801132</td>\n",
       "      <td>0.741974</td>\n",
       "      <td>0.614843</td>\n",
       "      <td>0.901392</td>\n",
       "      <td>0.405674</td>\n",
       "      <td>0</td>\n",
       "    </tr>\n",
       "    <tr>\n",
       "      <th>4</th>\n",
       "      <td>0.861559</td>\n",
       "      <td>0.546654</td>\n",
       "      <td>63.677669</td>\n",
       "      <td>1.309211</td>\n",
       "      <td>0.918778</td>\n",
       "      <td>0.890248</td>\n",
       "      <td>0.432516</td>\n",
       "      <td>0.967031</td>\n",
       "      <td>0.161891</td>\n",
       "      <td>0</td>\n",
       "    </tr>\n",
       "  </tbody>\n",
       "</table>\n",
       "</div>"
      ],
      "text/plain": [
       "   Unnamed: 0  Unnamed: 1  Unnamed: 2  Unnamed: 3  Unnamed: 4  Unnamed: 5  \\\n",
       "0    0.847880    0.590548   48.085815    1.182206    0.911812    0.879355   \n",
       "1    0.685346    1.090516  138.541353    2.891792    0.805732    0.737047   \n",
       "2    0.843762    0.604311   44.511642    1.137569    0.910226    0.876347   \n",
       "3    0.688089    1.089681  181.972444    3.521278    0.801132    0.741974   \n",
       "4    0.861559    0.546654   63.677669    1.309211    0.918778    0.890248   \n",
       "\n",
       "   Unnamed: 6  Unnamed: 7  Unnamed: 8  outcome  \n",
       "0    0.606393    0.973839    0.129808        0  \n",
       "1    0.600127    0.934522    0.285094        0  \n",
       "2    0.632382    0.977506    0.113224        0  \n",
       "3    0.614843    0.901392    0.405674        0  \n",
       "4    0.432516    0.967031    0.161891        0  "
      ]
     },
     "execution_count": 6,
     "metadata": {},
     "output_type": "execute_result"
    }
   ],
   "source": [
    "df.head()"
   ]
  },
  {
   "cell_type": "code",
   "execution_count": 7,
   "id": "b4b3242a",
   "metadata": {},
   "outputs": [],
   "source": [
    "x = df.drop(['outcome'], axis='columns')\n",
    "y = df.outcome"
   ]
  },
  {
   "cell_type": "code",
   "execution_count": 8,
   "id": "6a0e9d19",
   "metadata": {},
   "outputs": [],
   "source": [
    "scalar = StandardScaler()\n",
    "x = scalar.fit_transform(x)"
   ]
  },
  {
   "cell_type": "code",
   "execution_count": 9,
   "id": "720a1f5d",
   "metadata": {},
   "outputs": [],
   "source": [
    "x_train, x_test, y_train,y_test=train_test_split(x,y,test_size=.2, random_state=2)"
   ]
  },
  {
   "cell_type": "code",
   "execution_count": 10,
   "id": "1376e711",
   "metadata": {},
   "outputs": [
    {
     "name": "stdout",
     "output_type": "stream",
     "text": [
      "(98, 9) (98,) (25, 9) (25,)\n"
     ]
    }
   ],
   "source": [
    "print(x_train.shape,y_train.shape, x_test.shape, y_test.shape)"
   ]
  },
  {
   "cell_type": "code",
   "execution_count": 11,
   "id": "43b91413",
   "metadata": {},
   "outputs": [],
   "source": [
    "img=cv2.imread(r\"C:\\Users\\user\\Desktop\\MCA\\SEM 3\\Project\\programs\\test_without_bg\\hog\\without\\crop_head1.jpg\")  \n",
    "#img=cv2.imread(r\"C:\\Users\\user\\Desktop\\MCA\\SEM 3\\Project\\programs\\test_without_bg\\hog\\with\\crop_head46.jpg\")\n",
    "#cv2.imshow(\"org img\",img)\n",
    "#cv2.waitKey(0)"
   ]
  },
  {
   "cell_type": "code",
   "execution_count": 12,
   "id": "8f1e3024",
   "metadata": {},
   "outputs": [],
   "source": [
    "img1= cv2.resize(img, (400,400))\n",
    "c=cv2.cvtColor(img1,cv2.COLOR_BGR2RGB)\n",
    "    \n",
    "    #conversion of RGB images into Gray Scale\n",
    "img = cv2.cvtColor(c, cv2.COLOR_BGR2GRAY)\n",
    "    \n",
    "    # Otsu thresholding\n",
    "#ret,img_new = cv2.threshold(gray,0,255,cv2.THRESH_BINARY+cv2.THRESH_OTSU)\n",
    "   \n",
    "    # Sobel edge detection\n",
    "#img_new = cv2.Sobel(src=img, ddepth=cv2.CV_64F, dx=1, dy=1, ksize=5)\n",
    "    \n",
    "#fd, img = hog(img_new, orientations=9, pixels_per_cell=(8, 8),cells_per_block=(2, 2), visualize=True)"
   ]
  },
  {
   "cell_type": "code",
   "execution_count": 13,
   "id": "faae232e",
   "metadata": {},
   "outputs": [
    {
     "name": "stderr",
     "output_type": "stream",
     "text": [
      "C:\\Users\\user\\AppData\\Local\\Temp\\ipykernel_6740\\2136797188.py:7: RuntimeWarning: divide by zero encountered in log2\n",
      "  lbp_entropy = -np.nansum(np.multiply(lbp_prob,np.log2(lbp_prob)))\n",
      "C:\\Users\\user\\AppData\\Local\\Temp\\ipykernel_6740\\2136797188.py:7: RuntimeWarning: invalid value encountered in multiply\n",
      "  lbp_entropy = -np.nansum(np.multiply(lbp_prob,np.log2(lbp_prob)))\n",
      "C:\\Users\\user\\anaconda3\\envs\\user\\lib\\site-packages\\skimage\\feature\\__init__.py:35: skimage_deprecation: Function ``greycomatrix`` is deprecated and will be removed in version 1.0. Use ``skimage.feature.graycomatrix`` instead.\n",
      "  removed_version='1.0')\n",
      "C:\\Users\\user\\anaconda3\\envs\\user\\lib\\site-packages\\skimage\\feature\\__init__.py:42: skimage_deprecation: Function ``greycoprops`` is deprecated and will be removed in version 1.0. Use ``skimage.feature.graycoprops`` instead.\n",
      "  removed_version='1.0')\n",
      "C:\\Users\\user\\anaconda3\\envs\\user\\lib\\site-packages\\skimage\\feature\\__init__.py:42: skimage_deprecation: Function ``greycoprops`` is deprecated and will be removed in version 1.0. Use ``skimage.feature.graycoprops`` instead.\n",
      "  removed_version='1.0')\n",
      "C:\\Users\\user\\anaconda3\\envs\\user\\lib\\site-packages\\skimage\\feature\\__init__.py:42: skimage_deprecation: Function ``greycoprops`` is deprecated and will be removed in version 1.0. Use ``skimage.feature.graycoprops`` instead.\n",
      "  removed_version='1.0')\n",
      "C:\\Users\\user\\anaconda3\\envs\\user\\lib\\site-packages\\skimage\\feature\\__init__.py:42: skimage_deprecation: Function ``greycoprops`` is deprecated and will be removed in version 1.0. Use ``skimage.feature.graycoprops`` instead.\n",
      "  removed_version='1.0')\n",
      "C:\\Users\\user\\anaconda3\\envs\\user\\lib\\site-packages\\skimage\\feature\\__init__.py:42: skimage_deprecation: Function ``greycoprops`` is deprecated and will be removed in version 1.0. Use ``skimage.feature.graycoprops`` instead.\n",
      "  removed_version='1.0')\n"
     ]
    }
   ],
   "source": [
    "# LBP\n",
    "feat_lbp = local_binary_pattern(img,5,2,'uniform')\n",
    "lbp_hist,_ = np.histogram(feat_lbp,8)\n",
    "lbp_hist = np.array(lbp_hist,dtype=float)\n",
    "lbp_prob = np.divide(lbp_hist,np.sum(lbp_hist))\n",
    "lbp_energy = np.nansum(lbp_prob**2)\n",
    "lbp_entropy = -np.nansum(np.multiply(lbp_prob,np.log2(lbp_prob)))  \n",
    "        \n",
    "lbphist_features = np.reshape(np.array(lbp_hist).ravel(),(1,len(np.array(lbp_hist).ravel())))\n",
    "lbpprob_features=np.reshape(np.array(lbp_prob).ravel(),(1,len(np.array(lbp_prob).ravel())))\n",
    "lbpenrgy_features=np.reshape(np.array(lbp_energy).ravel(),(1,len(np.array(lbp_energy).ravel())))\n",
    "lbpento_features=np.reshape(np.array(lbp_entropy).ravel(),(1,len(np.array(lbp_entropy).ravel())))\n",
    "\n",
    "\n",
    "        # GLCM\n",
    "gCoMat = greycomatrix(img.astype(np.uint8), [1], [0],256,symmetric=True, normed=True)\n",
    "contrast = greycoprops(gCoMat, prop='contrast')\n",
    "dissimilarity = greycoprops(gCoMat, prop='dissimilarity')\n",
    "homogeneity = greycoprops(gCoMat, prop='homogeneity')    \n",
    "energy = greycoprops(gCoMat, prop='energy')\n",
    "correlation = greycoprops(gCoMat, prop='correlation')    \n",
    "        \n",
    "contrast_features = np.reshape(np.array(contrast).ravel(),(1,len(np.array(contrast).ravel())))\n",
    "dissimilarity_features=np.reshape(np.array(dissimilarity).ravel(),(1,len(np.array(dissimilarity).ravel())))\n",
    "homogeneity_features=np.reshape(np.array(homogeneity).ravel(),(1,len(np.array(homogeneity).ravel())))\n",
    "energy_features=np.reshape(np.array(energy).ravel(),(1,len(np.array(energy).ravel())))\n",
    "correlation_features=np.reshape(np.array(correlation).ravel(),(1,len(np.array(correlation).ravel())))\n",
    "    \n",
    "\n",
    "        # Gabor filter\n",
    "gaborFilt_real,gaborFilt_imag = gabor(img,frequency=0.6)\n",
    "gaborFilt = (gaborFilt_real**2+gaborFilt_imag**2)//2\n",
    "gabor_hist,_ = np.histogram(gaborFilt,8)\n",
    "gabor_hist = np.array(gabor_hist,dtype=float)\n",
    "gabor_prob = np.divide(gabor_hist,np.sum(gabor_hist))\n",
    "gabor_energy = np.nansum(gabor_prob**2)\n",
    "gabor_entropy = -np.nansum(np.multiply(gabor_prob,np.log2(gabor_prob)))\n",
    "       \n",
    "gabor_hist_features = np.reshape(np.array(gabor_hist).ravel(),(1,len(np.array(gabor_hist).ravel())))\n",
    "gabor_prob_features=np.reshape(np.array(gabor_prob).ravel(),(1,len(np.array(gabor_prob).ravel())))\n",
    "gabor_ener_features=np.reshape(np.array(gabor_energy).ravel(),(1,len(np.array(gabor_energy).ravel())))\n",
    "gabor_entr_features=np.reshape(np.array(gabor_entropy).ravel(),(1,len(np.array(gabor_entropy).ravel())))\n",
    "       \n",
    "#features=np.concatenate((lbphist_features,lbpprob_features,lbpenrgy_features,lbpento_features,contrast_features,dissimilarity_features,homogeneity_features,energy_features,correlation_features,gabor_hist_features,gabor_prob_features,gabor_ener_features,gabor_entr_features),axis=1);\n",
    "features=np.concatenate((lbpenrgy_features,lbpento_features,contrast_features,dissimilarity_features,homogeneity_features,energy_features,correlation_features,gabor_ener_features,gabor_entr_features),axis=1);\n",
    "        "
   ]
  },
  {
   "cell_type": "code",
   "execution_count": 14,
   "id": "7d2c4ddf",
   "metadata": {},
   "outputs": [
    {
     "name": "stdout",
     "output_type": "stream",
     "text": [
      "[[-1.07284056  1.04574549 -1.3507413  -0.94430638 -0.41610158 -0.81583808\n",
      "  -1.33475797  1.27857327 -1.37191091]]\n"
     ]
    },
    {
     "name": "stderr",
     "output_type": "stream",
     "text": [
      "C:\\Users\\user\\anaconda3\\envs\\user\\lib\\site-packages\\sklearn\\base.py:450: UserWarning: X does not have valid feature names, but StandardScaler was fitted with feature names\n",
      "  warnings.warn(\n"
     ]
    }
   ],
   "source": [
    "features=scalar.transform(features)\n",
    "print(features)"
   ]
  },
  {
   "cell_type": "code",
   "execution_count": 15,
   "id": "59c82b02",
   "metadata": {},
   "outputs": [
    {
     "data": {
      "text/plain": [
       "array([1, 0, 1, 0, 0, 1, 1, 1, 1, 1, 0, 0, 0, 1, 0, 1, 1, 0, 0, 0, 0, 1,\n",
       "       0, 1, 0])"
      ]
     },
     "execution_count": 15,
     "metadata": {},
     "output_type": "execute_result"
    }
   ],
   "source": [
    "classifier_svm = SVC(kernel='rbf', random_state=2,gamma='auto')  \n",
    "classifier_svm.fit(x_train, y_train) \n",
    "y_pred_svm= classifier_svm.predict(x_test)\n",
    "y_pred_svm"
   ]
  },
  {
   "cell_type": "code",
   "execution_count": 16,
   "id": "3d207515",
   "metadata": {},
   "outputs": [
    {
     "name": "stdout",
     "output_type": "stream",
     "text": [
      "With helmet\n"
     ]
    }
   ],
   "source": [
    "y1_pred= classifier_svm.predict(features)  \n",
    "if y1_pred == 0:\n",
    "    print(\"With helmet\")\n",
    "else:\n",
    "    print(\"Without helmet\")"
   ]
  },
  {
   "cell_type": "code",
   "execution_count": 17,
   "id": "c3ed33ef",
   "metadata": {},
   "outputs": [
    {
     "data": {
      "text/plain": [
       "0.56"
      ]
     },
     "execution_count": 17,
     "metadata": {},
     "output_type": "execute_result"
    }
   ],
   "source": [
    "accuracy = metrics.accuracy_score(y_test, y_pred_svm)\n",
    "accuracy "
   ]
  },
  {
   "cell_type": "code",
   "execution_count": 18,
   "id": "b96ea163",
   "metadata": {},
   "outputs": [
    {
     "data": {
      "text/plain": [
       "array([[7, 5],\n",
       "       [6, 7]], dtype=int64)"
      ]
     },
     "execution_count": 18,
     "metadata": {},
     "output_type": "execute_result"
    }
   ],
   "source": [
    "cm1= confusion_matrix(y_test, y_pred_svm) \n",
    "cm1= np.asarray(cm1)\n",
    "cm1"
   ]
  },
  {
   "cell_type": "code",
   "execution_count": 19,
   "id": "442ebb51",
   "metadata": {},
   "outputs": [
    {
     "name": "stderr",
     "output_type": "stream",
     "text": [
      "C:\\Users\\user\\anaconda3\\envs\\user\\lib\\site-packages\\sklearn\\utils\\deprecation.py:87: FutureWarning: Function plot_confusion_matrix is deprecated; Function `plot_confusion_matrix` is deprecated in 1.0 and will be removed in 1.2. Use one of the class methods: ConfusionMatrixDisplay.from_predictions or ConfusionMatrixDisplay.from_estimator.\n",
      "  warnings.warn(msg, category=FutureWarning)\n"
     ]
    },
    {
     "data": {
      "text/plain": [
       "<sklearn.metrics._plot.confusion_matrix.ConfusionMatrixDisplay at 0x1c11bd18bb0>"
      ]
     },
     "execution_count": 19,
     "metadata": {},
     "output_type": "execute_result"
    },
    {
     "data": {
      "image/png": "[encoded data removed]",
      "text/plain": [
       "<Figure size 640x480 with 2 Axes>"
      ]
     },
     "metadata": {},
     "output_type": "display_data"
    }
   ],
   "source": [
    "metrics.plot_confusion_matrix(classifier_svm, x_test, y_test, display_labels=['Negative', 'Positive'])"
   ]
  },
  {
   "cell_type": "code",
   "execution_count": 20,
   "id": "262aee65",
   "metadata": {},
   "outputs": [
    {
     "name": "stdout",
     "output_type": "stream",
     "text": [
      "Recall : 0.5454545454545454\n",
      "Recall_sensitivity : 0.5454545454545454\n",
      "Recall_specificity : 0.5\n"
     ]
    }
   ],
   "source": [
    "FP, FN,TP,TN = cm1.ravel()\n",
    "Recall = TP/(TP + FN)\n",
    "recall_sensitivity = TP/(TP + FN)\n",
    "recall_specificity = TN/(TN + FP)\n",
    "print(\"Recall :\",Recall)\n",
    "print(\"Recall_sensitivity :\",recall_sensitivity)\n",
    "print(\"Recall_specificity :\",recall_specificity)"
   ]
  },
  {
   "cell_type": "code",
   "execution_count": 21,
   "id": "bb73e12d",
   "metadata": {},
   "outputs": [
    {
     "name": "stdout",
     "output_type": "stream",
     "text": [
      "              precision    recall  f1-score   support\n",
      "\n",
      "           0       0.54      0.58      0.56        12\n",
      "           1       0.58      0.54      0.56        13\n",
      "\n",
      "    accuracy                           0.56        25\n",
      "   macro avg       0.56      0.56      0.56        25\n",
      "weighted avg       0.56      0.56      0.56        25\n",
      "\n"
     ]
    }
   ],
   "source": [
    "m=classification_report(y_test,y_pred_svm)\n",
    "print(m)"
   ]
  },
  {
   "cell_type": "code",
   "execution_count": null,
   "id": "b2da0132",
   "metadata": {},
   "outputs": [],
   "source": []
  },
  {
   "cell_type": "code",
   "execution_count": 22,
   "id": "9f223279",
   "metadata": {},
   "outputs": [
    {
     "data": {
      "text/plain": [
       "5.0"
      ]
     },
     "execution_count": 22,
     "metadata": {},
     "output_type": "execute_result"
    }
   ],
   "source": [
    "import math\n",
    "math.sqrt(len(y_test))"
   ]
  },
  {
   "cell_type": "code",
   "execution_count": 23,
   "id": "2351a4fe",
   "metadata": {},
   "outputs": [],
   "source": [
    "from sklearn.neighbors import KNeighborsClassifier  \n",
    "classifier_knn =  KNeighborsClassifier(n_neighbors=5, metric='minkowski', p=2)  \n",
    "classifier_knn.fit(x_train, y_train)  \n",
    "y_pred_knn= classifier_knn.predict(x_test)  "
   ]
  },
  {
   "cell_type": "code",
   "execution_count": 24,
   "id": "d8a9f7cb",
   "metadata": {},
   "outputs": [
    {
     "data": {
      "text/plain": [
       "0.52"
      ]
     },
     "execution_count": 24,
     "metadata": {},
     "output_type": "execute_result"
    }
   ],
   "source": [
    "accuracy = metrics.accuracy_score(y_test, y_pred_knn)\n",
    "accuracy "
   ]
  },
  {
   "cell_type": "code",
   "execution_count": 25,
   "id": "bf4b357d",
   "metadata": {},
   "outputs": [
    {
     "name": "stdout",
     "output_type": "stream",
     "text": [
      "With helmet\n"
     ]
    }
   ],
   "source": [
    "y1_pred= classifier_knn.predict(features)  \n",
    "if y1_pred == 0:\n",
    "    print(\"With helmet\")\n",
    "else:\n",
    "    print(\"Without helmet\")"
   ]
  },
  {
   "cell_type": "code",
   "execution_count": 26,
   "id": "6b25349b",
   "metadata": {},
   "outputs": [
    {
     "data": {
      "text/plain": [
       "0.4999999999999999"
      ]
     },
     "execution_count": 26,
     "metadata": {},
     "output_type": "execute_result"
    }
   ],
   "source": [
    "from sklearn.metrics import f1_score\n",
    "f1_score(y_test,y_pred_knn)"
   ]
  },
  {
   "cell_type": "code",
   "execution_count": 27,
   "id": "32c64e2c",
   "metadata": {},
   "outputs": [
    {
     "data": {
      "text/plain": [
       "array([[7, 5],\n",
       "       [7, 6]], dtype=int64)"
      ]
     },
     "execution_count": 27,
     "metadata": {},
     "output_type": "execute_result"
    }
   ],
   "source": [
    "cm2= confusion_matrix(y_test, y_pred_knn) \n",
    "cm2= np.asarray(cm2)\n",
    "cm2"
   ]
  },
  {
   "cell_type": "code",
   "execution_count": 28,
   "id": "99767d54",
   "metadata": {},
   "outputs": [
    {
     "name": "stdout",
     "output_type": "stream",
     "text": [
      "              precision    recall  f1-score   support\n",
      "\n",
      "           0       0.50      0.58      0.54        12\n",
      "           1       0.55      0.46      0.50        13\n",
      "\n",
      "    accuracy                           0.52        25\n",
      "   macro avg       0.52      0.52      0.52        25\n",
      "weighted avg       0.52      0.52      0.52        25\n",
      "\n"
     ]
    }
   ],
   "source": [
    "m=classification_report(y_test,y_pred_knn)\n",
    "print(m)"
   ]
  },
  {
   "cell_type": "code",
   "execution_count": 29,
   "id": "97d49d6b",
   "metadata": {},
   "outputs": [
    {
     "name": "stderr",
     "output_type": "stream",
     "text": [
      "C:\\Users\\user\\anaconda3\\envs\\user\\lib\\site-packages\\sklearn\\utils\\deprecation.py:87: FutureWarning: Function plot_confusion_matrix is deprecated; Function `plot_confusion_matrix` is deprecated in 1.0 and will be removed in 1.2. Use one of the class methods: ConfusionMatrixDisplay.from_predictions or ConfusionMatrixDisplay.from_estimator.\n",
      "  warnings.warn(msg, category=FutureWarning)\n"
     ]
    },
    {
     "data": {
      "text/plain": [
       "<sklearn.metrics._plot.confusion_matrix.ConfusionMatrixDisplay at 0x1c11be760d0>"
      ]
     },
     "execution_count": 29,
     "metadata": {},
     "output_type": "execute_result"
    },
    {
     "data": {
      "image/png": "[encoded data removed]",
      "text/plain": [
       "<Figure size 640x480 with 2 Axes>"
      ]
     },
     "metadata": {},
     "output_type": "display_data"
    }
   ],
   "source": [
    "metrics.plot_confusion_matrix(classifier_knn, x_test, y_test, display_labels=['Negative', 'Positive'])"
   ]
  },
  {
   "cell_type": "code",
   "execution_count": 30,
   "id": "161e5c72",
   "metadata": {},
   "outputs": [
    {
     "name": "stdout",
     "output_type": "stream",
     "text": [
      "Recall : 0.46153846153846156\n",
      "Recall_sensitivity : 0.46153846153846156\n",
      "Recall_specificity : 0.5833333333333334\n"
     ]
    }
   ],
   "source": [
    "FP = cm2[0][1]\n",
    "FN = cm2[1][0]\n",
    "TP = cm2[1][1]\n",
    "TN = cm2[0][0]\n",
    "Recall = TP/(TP + FN)\n",
    "recall_sensitivity = TP/(TP + FN)\n",
    "recall_specificity = TN/(TN + FP)\n",
    "print(\"Recall :\",Recall)\n",
    "print(\"Recall_sensitivity :\",recall_sensitivity)\n",
    "print(\"Recall_specificity :\",recall_specificity)"
   ]
  },
  {
   "cell_type": "code",
   "execution_count": null,
   "id": "8d40f8c7",
   "metadata": {},
   "outputs": [],
   "source": []
  },
  {
   "cell_type": "code",
   "execution_count": 31,
   "id": "af3fb451",
   "metadata": {},
   "outputs": [
    {
     "data": {
      "text/plain": [
       "array([0, 0, 1, 0, 0, 0, 1, 1, 0, 1, 0, 1, 0, 1, 0, 1, 1, 0, 0, 0, 0, 1,\n",
       "       0, 0, 0])"
      ]
     },
     "execution_count": 31,
     "metadata": {},
     "output_type": "execute_result"
    }
   ],
   "source": [
    "from sklearn.ensemble import RandomForestClassifier\n",
    "randclassi=RandomForestClassifier(criterion='gini',max_features='sqrt',n_jobs=2)\n",
    "randclassi.fit(x_train, y_train)\n",
    "y_pred_ranfor=randclassi.predict(x_test)\n",
    "y_pred_ranfor"
   ]
  },
  {
   "cell_type": "code",
   "execution_count": 32,
   "id": "1596e1df",
   "metadata": {},
   "outputs": [
    {
     "data": {
      "text/plain": [
       "0.6"
      ]
     },
     "execution_count": 32,
     "metadata": {},
     "output_type": "execute_result"
    }
   ],
   "source": [
    "accuracy = metrics.accuracy_score(y_test, y_pred_ranfor)\n",
    "accuracy "
   ]
  },
  {
   "cell_type": "code",
   "execution_count": 33,
   "id": "f4f53e0c",
   "metadata": {},
   "outputs": [
    {
     "name": "stdout",
     "output_type": "stream",
     "text": [
      "Without helmet\n"
     ]
    }
   ],
   "source": [
    "y1_pred= randclassi.predict(features)  \n",
    "if y1_pred == 0:\n",
    "    print(\"With helmet\")\n",
    "else:\n",
    "    print(\"Without helmet\")"
   ]
  },
  {
   "cell_type": "code",
   "execution_count": 34,
   "id": "3ea2fc47",
   "metadata": {},
   "outputs": [
    {
     "data": {
      "text/plain": [
       "array([[9, 3],\n",
       "       [7, 6]], dtype=int64)"
      ]
     },
     "execution_count": 34,
     "metadata": {},
     "output_type": "execute_result"
    }
   ],
   "source": [
    "cm3= confusion_matrix(y_test, y_pred_ranfor) \n",
    "cm3= np.asarray(cm3)\n",
    "cm3"
   ]
  },
  {
   "cell_type": "code",
   "execution_count": 35,
   "id": "87a68359",
   "metadata": {},
   "outputs": [
    {
     "name": "stdout",
     "output_type": "stream",
     "text": [
      "              precision    recall  f1-score   support\n",
      "\n",
      "           0       0.56      0.75      0.64        12\n",
      "           1       0.67      0.46      0.55        13\n",
      "\n",
      "    accuracy                           0.60        25\n",
      "   macro avg       0.61      0.61      0.59        25\n",
      "weighted avg       0.62      0.60      0.59        25\n",
      "\n"
     ]
    }
   ],
   "source": [
    "m=classification_report(y_test,y_pred_ranfor)\n",
    "print(m)"
   ]
  },
  {
   "cell_type": "code",
   "execution_count": 36,
   "id": "86b801de",
   "metadata": {},
   "outputs": [
    {
     "name": "stderr",
     "output_type": "stream",
     "text": [
      "C:\\Users\\user\\anaconda3\\envs\\user\\lib\\site-packages\\sklearn\\utils\\deprecation.py:87: FutureWarning: Function plot_confusion_matrix is deprecated; Function `plot_confusion_matrix` is deprecated in 1.0 and will be removed in 1.2. Use one of the class methods: ConfusionMatrixDisplay.from_predictions or ConfusionMatrixDisplay.from_estimator.\n",
      "  warnings.warn(msg, category=FutureWarning)\n"
     ]
    },
    {
     "data": {
      "text/plain": [
       "<sklearn.metrics._plot.confusion_matrix.ConfusionMatrixDisplay at 0x1c11be9bbe0>"
      ]
     },
     "execution_count": 36,
     "metadata": {},
     "output_type": "execute_result"
    },
    {
     "data": {
      "image/png": "[encoded data removed]",
      "text/plain": [
       "<Figure size 640x480 with 2 Axes>"
      ]
     },
     "metadata": {},
     "output_type": "display_data"
    }
   ],
   "source": [
    "metrics.plot_confusion_matrix(randclassi, x_test, y_test, display_labels=['Negative', 'Positive'])"
   ]
  },
  {
   "cell_type": "code",
   "execution_count": 37,
   "id": "0290678e",
   "metadata": {},
   "outputs": [
    {
     "name": "stdout",
     "output_type": "stream",
     "text": [
      "Recall : 0.46153846153846156\n",
      "Recall_sensitivity : 0.46153846153846156\n",
      "Recall_specificity : 0.75\n"
     ]
    }
   ],
   "source": [
    "FP = cm3[0][1]\n",
    "FN = cm3[1][0]\n",
    "TP = cm3[1][1]\n",
    "TN = cm3[0][0]\n",
    "Recall = TP/(TP + FN)\n",
    "recall_sensitivity = TP/(TP + FN)\n",
    "recall_specificity = TN/(TN + FP)\n",
    "print(\"Recall :\",Recall)\n",
    "print(\"Recall_sensitivity :\",recall_sensitivity)\n",
    "print(\"Recall_specificity :\",recall_specificity)"
   ]
  },
  {
   "cell_type": "code",
   "execution_count": null,
   "id": "e215bde4",
   "metadata": {},
   "outputs": [],
   "source": []
  },
  {
   "cell_type": "code",
   "execution_count": 38,
   "id": "1c9fa3d1",
   "metadata": {},
   "outputs": [
    {
     "data": {
      "text/plain": [
       "array([1, 0, 1, 0, 0, 1, 1, 1, 1, 1, 1, 1, 0, 1, 0, 1, 1, 0, 0, 1, 0, 1,\n",
       "       0, 0, 1])"
      ]
     },
     "execution_count": 38,
     "metadata": {},
     "output_type": "execute_result"
    }
   ],
   "source": [
    "from sklearn.naive_bayes import GaussianNB\n",
    "classifier_gauss = GaussianNB()\n",
    "classifier_gauss.fit(x_train, y_train)\n",
    "y_pred_gauss=classifier_gauss.predict(x_test)\n",
    "y_pred_gauss"
   ]
  },
  {
   "cell_type": "code",
   "execution_count": 39,
   "id": "39ae7416",
   "metadata": {},
   "outputs": [
    {
     "data": {
      "text/plain": [
       "0.52"
      ]
     },
     "execution_count": 39,
     "metadata": {},
     "output_type": "execute_result"
    }
   ],
   "source": [
    "accuracy = metrics.accuracy_score(y_test, y_pred_gauss)\n",
    "accuracy "
   ]
  },
  {
   "cell_type": "code",
   "execution_count": 40,
   "id": "f3a5e795",
   "metadata": {},
   "outputs": [
    {
     "name": "stdout",
     "output_type": "stream",
     "text": [
      "Without helmet\n"
     ]
    }
   ],
   "source": [
    "y1_pred= classifier_gauss.predict(features)  \n",
    "if y1_pred == 0:\n",
    "    print(\"With helmet\")\n",
    "else:\n",
    "    print(\"Without helmet\")"
   ]
  },
  {
   "cell_type": "code",
   "execution_count": 41,
   "id": "b1961332",
   "metadata": {},
   "outputs": [
    {
     "data": {
      "text/plain": [
       "array([[5, 7],\n",
       "       [5, 8]], dtype=int64)"
      ]
     },
     "execution_count": 41,
     "metadata": {},
     "output_type": "execute_result"
    }
   ],
   "source": [
    "cm4= confusion_matrix(y_test, y_pred_gauss) \n",
    "cm4= np.asarray(cm4)\n",
    "cm4"
   ]
  },
  {
   "cell_type": "code",
   "execution_count": 42,
   "id": "68ae0237",
   "metadata": {},
   "outputs": [
    {
     "name": "stdout",
     "output_type": "stream",
     "text": [
      "              precision    recall  f1-score   support\n",
      "\n",
      "           0       0.50      0.42      0.45        12\n",
      "           1       0.53      0.62      0.57        13\n",
      "\n",
      "    accuracy                           0.52        25\n",
      "   macro avg       0.52      0.52      0.51        25\n",
      "weighted avg       0.52      0.52      0.52        25\n",
      "\n"
     ]
    }
   ],
   "source": [
    "m=classification_report(y_test,y_pred_gauss)\n",
    "print(m)"
   ]
  },
  {
   "cell_type": "code",
   "execution_count": 43,
   "id": "93ba8f2e",
   "metadata": {},
   "outputs": [
    {
     "name": "stderr",
     "output_type": "stream",
     "text": [
      "C:\\Users\\user\\anaconda3\\envs\\user\\lib\\site-packages\\sklearn\\utils\\deprecation.py:87: FutureWarning: Function plot_confusion_matrix is deprecated; Function `plot_confusion_matrix` is deprecated in 1.0 and will be removed in 1.2. Use one of the class methods: ConfusionMatrixDisplay.from_predictions or ConfusionMatrixDisplay.from_estimator.\n",
      "  warnings.warn(msg, category=FutureWarning)\n"
     ]
    },
    {
     "data": {
      "text/plain": [
       "<sklearn.metrics._plot.confusion_matrix.ConfusionMatrixDisplay at 0x1c11d0c6f10>"
      ]
     },
     "execution_count": 43,
     "metadata": {},
     "output_type": "execute_result"
    },
    {
     "data": {
      "image/png": "[encoded data removed]",
      "text/plain": [
       "<Figure size 640x480 with 2 Axes>"
      ]
     },
     "metadata": {},
     "output_type": "display_data"
    }
   ],
   "source": [
    "metrics.plot_confusion_matrix(classifier_gauss, x_test, y_test, display_labels=['Negative', 'Positive'])"
   ]
  },
  {
   "cell_type": "code",
   "execution_count": 44,
   "id": "1aa3af7e",
   "metadata": {},
   "outputs": [
    {
     "name": "stdout",
     "output_type": "stream",
     "text": [
      "Recall : 0.6153846153846154\n",
      "Recall_sensitivity : 0.6153846153846154\n",
      "Recall_specificity : 0.4166666666666667\n"
     ]
    }
   ],
   "source": [
    "FP = cm4[0][1]\n",
    "FN = cm4[1][0]\n",
    "TP = cm4[1][1]\n",
    "TN = cm4[0][0]\n",
    "Recall = TP/(TP + FN)\n",
    "recall_sensitivity = TP/(TP + FN)\n",
    "recall_specificity = TN/(TN + FP)\n",
    "print(\"Recall :\",Recall)\n",
    "print(\"Recall_sensitivity :\",recall_sensitivity)\n",
    "print(\"Recall_specificity :\",recall_specificity)"
   ]
  },
  {
   "cell_type": "code",
   "execution_count": null,
   "id": "838a783d",
   "metadata": {},
   "outputs": [],
   "source": []
  },
  {
   "cell_type": "code",
   "execution_count": 45,
   "id": "130c4cda",
   "metadata": {},
   "outputs": [
    {
     "data": {
      "text/plain": [
       "array([1, 0, 1, 0, 0, 0, 1, 0, 0, 0, 0, 1, 0, 1, 0, 1, 1, 0, 0, 0, 0, 1,\n",
       "       0, 1, 0])"
      ]
     },
     "execution_count": 45,
     "metadata": {},
     "output_type": "execute_result"
    }
   ],
   "source": [
    "from sklearn.tree import DecisionTreeClassifier\n",
    "classifier_dtree = DecisionTreeClassifier(criterion = 'entropy')\n",
    "classifier_dtree.fit(x_train, y_train)\n",
    "y_pred_dtree=classifier_dtree.predict(x_test)\n",
    "y_pred_dtree"
   ]
  },
  {
   "cell_type": "code",
   "execution_count": 46,
   "id": "2ccf37a5",
   "metadata": {},
   "outputs": [
    {
     "name": "stdout",
     "output_type": "stream",
     "text": [
      "With helmet\n"
     ]
    }
   ],
   "source": [
    "y1_pred= classifier_dtree.predict(features)  \n",
    "if y1_pred == 0:\n",
    "    print(\"With helmet\")\n",
    "else:\n",
    "    print(\"Without helmet\")"
   ]
  },
  {
   "cell_type": "code",
   "execution_count": 47,
   "id": "54f8ef99",
   "metadata": {},
   "outputs": [
    {
     "data": {
      "text/plain": [
       "0.76"
      ]
     },
     "execution_count": 47,
     "metadata": {},
     "output_type": "execute_result"
    }
   ],
   "source": [
    "accuracy = metrics.accuracy_score(y_test, y_pred_dtree)\n",
    "accuracy "
   ]
  },
  {
   "cell_type": "code",
   "execution_count": 48,
   "id": "01ca030b",
   "metadata": {},
   "outputs": [
    {
     "data": {
      "text/plain": [
       "array([[11,  1],\n",
       "       [ 5,  8]], dtype=int64)"
      ]
     },
     "execution_count": 48,
     "metadata": {},
     "output_type": "execute_result"
    }
   ],
   "source": [
    "cm6= confusion_matrix(y_test, y_pred_dtree)\n",
    "cm6= np.asarray(cm6)\n",
    "cm6"
   ]
  },
  {
   "cell_type": "code",
   "execution_count": 49,
   "id": "ca6363f7",
   "metadata": {},
   "outputs": [
    {
     "name": "stdout",
     "output_type": "stream",
     "text": [
      "              precision    recall  f1-score   support\n",
      "\n",
      "           0       0.69      0.92      0.79        12\n",
      "           1       0.89      0.62      0.73        13\n",
      "\n",
      "    accuracy                           0.76        25\n",
      "   macro avg       0.79      0.77      0.76        25\n",
      "weighted avg       0.79      0.76      0.76        25\n",
      "\n"
     ]
    }
   ],
   "source": [
    "m=classification_report(y_test,y_pred_dtree)\n",
    "print(m)"
   ]
  },
  {
   "cell_type": "code",
   "execution_count": 50,
   "id": "6dadbb88",
   "metadata": {},
   "outputs": [
    {
     "name": "stderr",
     "output_type": "stream",
     "text": [
      "C:\\Users\\user\\anaconda3\\envs\\user\\lib\\site-packages\\sklearn\\utils\\deprecation.py:87: FutureWarning: Function plot_confusion_matrix is deprecated; Function `plot_confusion_matrix` is deprecated in 1.0 and will be removed in 1.2. Use one of the class methods: ConfusionMatrixDisplay.from_predictions or ConfusionMatrixDisplay.from_estimator.\n",
      "  warnings.warn(msg, category=FutureWarning)\n"
     ]
    },
    {
     "data": {
      "text/plain": [
       "<sklearn.metrics._plot.confusion_matrix.ConfusionMatrixDisplay at 0x1c11d3f99d0>"
      ]
     },
     "execution_count": 50,
     "metadata": {},
     "output_type": "execute_result"
    },
    {
     "data": {
      "image/png": "[encoded data removed]",
      "text/plain": [
       "<Figure size 640x480 with 2 Axes>"
      ]
     },
     "metadata": {},
     "output_type": "display_data"
    }
   ],
   "source": [
    "metrics.plot_confusion_matrix(classifier_dtree, x_test, y_test, display_labels=['Negative', 'Positive'])"
   ]
  },
  {
   "cell_type": "code",
   "execution_count": 51,
   "id": "fa34f8a5",
   "metadata": {},
   "outputs": [
    {
     "name": "stdout",
     "output_type": "stream",
     "text": [
      "Recall : 0.6153846153846154\n",
      "Recall_sensitivity : 0.6153846153846154\n",
      "Recall_specificity : 0.9166666666666666\n"
     ]
    }
   ],
   "source": [
    "FP = cm6[0][1]\n",
    "FN = cm6[1][0]\n",
    "TP = cm6[1][1]\n",
    "TN = cm6[0][0]\n",
    "Recall = TP/(TP + FN)\n",
    "recall_sensitivity = TP/(TP + FN)\n",
    "recall_specificity = TN/(TN + FP)\n",
    "print(\"Recall :\",Recall)\n",
    "print(\"Recall_sensitivity :\",recall_sensitivity)\n",
    "print(\"Recall_specificity :\",recall_specificity)"
   ]
  },
  {
   "cell_type": "code",
   "execution_count": null,
   "id": "10b32f93",
   "metadata": {},
   "outputs": [],
   "source": []
  },
  {
   "cell_type": "code",
   "execution_count": 52,
   "id": "6a216f33",
   "metadata": {},
   "outputs": [
    {
     "data": {
      "image/png": "[encoded data removed]",
      "text/plain": [
       "<Figure size 640x480 with 1 Axes>"
      ]
     },
     "metadata": {},
     "output_type": "display_data"
    }
   ],
   "source": [
    "fpr1, tpr1, thresholds1 = roc_curve(y_test, y_pred_svm)\n",
    "plt.plot(fpr1, tpr1, label = 'SVM')\n",
    "fpr2, tpr2, thresholds2 = roc_curve(y_test, y_pred_knn)\n",
    "plt.plot(fpr2, tpr2, label = 'KNN' )\n",
    "fpr3, tpr3, thresholds3 = roc_curve(y_test, y_pred_ranfor)\n",
    "plt.plot(fpr3, tpr3, label='Random forest')\n",
    "fpr4, tpr4, thresholds4 = roc_curve(y_test, y_pred_gauss)\n",
    "plt.plot(fpr4, tpr4, label='Gaussian')\n",
    "fpr6, tpr6, thresholds6 = roc_curve(y_test, y_pred_dtree)\n",
    "plt.plot(fpr6, tpr6, label='DecisionTree')\n",
    "plt.xlabel('False Positive Rate')\n",
    "plt.ylabel('True Positive Rate')\n",
    "plt.title('ROC Curve')\n",
    "plt.legend()\n",
    "plt.show()"
   ]
  },
  {
   "cell_type": "code",
   "execution_count": null,
   "id": "d1a3f8bb",
   "metadata": {},
   "outputs": [],
   "source": []
  },
  {
   "cell_type": "code",
   "execution_count": null,
   "id": "fe1d7b00",
   "metadata": {},
   "outputs": [],
   "source": []
  }
 ],
 "metadata": {
  "kernelspec": {
   "display_name": "Python 3 (ipykernel)",
   "language": "python",
   "name": "python3"
  },
  "language_info": {
   "codemirror_mode": {
    "name": "ipython",
    "version": 3
   },
   "file_extension": ".py",
   "mimetype": "text/x-python",
   "name": "python",
   "nbconvert_exporter": "python",
   "pygments_lexer": "ipython3",
   "version": "3.9.13"
  }
 },
 "nbformat": 4,
 "nbformat_minor": 5
}
